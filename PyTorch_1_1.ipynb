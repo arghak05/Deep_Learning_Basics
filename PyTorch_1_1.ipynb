{
  "cells": [
    {
      "cell_type": "markdown",
      "metadata": {
        "id": "GnZaPrwyVJhh"
      },
      "source": [
        "# What is PyTorch?"
      ]
    },
    {
      "cell_type": "markdown",
      "metadata": {
        "id": "u6rW55SqVJhx"
      },
      "source": [
        "<img src=\"download.jpg\">"
      ]
    },
    {
      "cell_type": "markdown",
      "metadata": {
        "id": "XqUeZb2_VJhy"
      },
      "source": [
        "PyTorch is a Python-based scientific computing package that uses the power of graphics processing units(GPU). It is also one of the preferred deep learning research platforms built to provide maximum flexibility and speed. It is known for providing two of the most high-level features; namely, tensor computations with strong GPU acceleration support and building deep neural networks on a tape-based autograd systems.\n",
        "\n",
        "There are many existing Python libraries which have the potential to change how deep learning and artificial intelligence are performed, and this is one such library. One of the key reasons behind PyTorch’s success is it is completely Pythonic and one can build neural network models effortlessly. It is still a young player when compared to its other competitors, however, it is gaining momentum fast."
      ]
    },
    {
      "cell_type": "markdown",
      "metadata": {
        "id": "RoFBVlzcVJh7"
      },
      "source": [
        "## Brief History about PyTorch\n",
        "\n",
        "Since its release in January 2016, many researchers have continued to increasingly adopt PyTorch. It has quickly become a go-to library because of its ease in building extremely complex neural networks. It is giving a tough competition to TensorFlow especially when used for research work. However, there is still some time before it is adopted by the masses due to its still “new” and “under construction” tags.\n",
        "\n",
        "PyTorch creators envisioned this library to be highly imperative which can allow them to run all the numerical computations quickly. This is an ideal methodology which fits perfectly with the Python programming style. It has allowed deep learning scientists, machine learning developers, and neural network debuggers to run and test part of the code in real time. Thus they don’t have to wait for the entire code to be executed to check whether it works or not.\n",
        "You can always use your favorite Python packages such as NumPy, SciPy, and Cython to extend PyTorch functionalities and services when required. Now you might ask, why PyTorch? What’ so special in using it to build deep learning models?\n",
        "\n",
        "The answer is quite simple, PyTorch is a dynamic library (very flexible and you can use as per your requirements and changes) which is currently adopted by many of the researchers, students, and artificial intelligence developers. In the recent Kaggle competition, PyTorch library was used by nearly all of the top 10 finishers.\n",
        "\n",
        "Some of the key highlights of PyTorch includes:\n",
        "\n",
        "__Simple Interface:__ It offers easy to use API, thus it is very simple to operate and run like Python.\n",
        "\n",
        "__Pythonic in nature:__ This library, being Pythonic, smoothly integrates with the Python data science stack. Thus it can leverage all the services and functionalities offered by the Python environment.\n",
        "\n",
        "__Computational graphs:__ In addition to this, PyTorch provides an excellent platform which offers dynamic computational graphs, thus you can change them during runtime. This is highly useful when you have no idea how much memory will be required for creating a neural network model."
      ]
    },
    {
      "cell_type": "markdown",
      "metadata": {
        "id": "l8V0-RfOVJh9"
      },
      "source": [
        "### Why we use PyTorch in research field?\n",
        "\n",
        "Anyone who is working in the field of deep learning and artificial intelligence has likely worked with TensorFlow before, Google’s most popular open source library. However, the latest deep learning framework – PyTorch solves major problems in terms of research work. Arguably PyTorch is TensorFlow’s biggest competitor to date, and it is currently a much favored deep learning and artificial intelligence library in the research community.\n",
        "\n",
        "\n",
        "You might be thinking why we use PyTorch? I list down the three factors for that\n",
        "\n",
        "- Using API is Easy: It is as simple as Python.\n",
        "- Pyt"
      ]
    },
    {
      "cell_type": "markdown",
      "metadata": {
        "id": "9uYhtwFNVJh_"
      },
      "source": [
        "### CPU v/s GPU\n",
        "  - CPU have fewer but more powerful compute cores, and whereas GPUs have a large number of lower-performant cores.\n",
        "  - CPUs are more suited to sequential tasks and GPUs are suitable for tasks with significant parallelization.\n",
        "\n",
        "<img src=\"Cpu vs Gpu.png\">"
      ]
    },
    {
      "cell_type": "markdown",
      "metadata": {
        "id": "jHMkNVEbVJiA"
      },
      "source": [
        "### Install\n",
        "\n",
        "<mark style=\"background-color: Blue\">__In CPU__</mark>\n",
        "\n",
        "__For Windows__\n",
        "\n",
        "* Install PyTorch using conda\n",
        "      conda install pytorch torchvision cpuonly -c pytorch\n",
        "\n",
        "* Using pip\n",
        "      pip3 install torch==1.4.0+cpu torchvision==0.5.0+cpu -f https://download.pytorch.org/whl/torch_stable.html\n",
        "        \n",
        "__For Mac__\n",
        "\n",
        "* Using conda\n",
        "      conda install pytorch torchvision -c pytorch\n",
        "    \n",
        "* Using pip\n",
        "      pip3 install torch torchvision\n",
        "    \n",
        "__For Linux__\n",
        "\n",
        "* Using conda\n",
        "      conda install pytorch torchvision cpuonly -c pytorch\n",
        "    \n",
        "* Using pip\n",
        "      pip3 install torch==1.4.0+cpu torchvision==0.5.0+cpu -f https://download.pytorch.org/whl/torch_stable.html\n",
        "      \n",
        "      \n",
        "      \n",
        "<mark style=\"background-color: Green\">__In GPU__</mark>\n",
        "\n",
        "__For Windows__\n",
        "\n",
        "* Install PyTorch using conda cuda=9.2 and Python=3.6\n",
        "      conda install pytorch torchvision cudatoolkit=9.2 -c pytorch\n",
        "     \n",
        "* Using conda cuda=10.1 and Python=3.6 \n",
        "      conda install pytorch torchvision cudatoolkit=10.1 -c pytorch\n",
        "     \n",
        "* Install Pytorch using pip cuda=9.2 and Python=3.6\n",
        "      pip3 install torch==1.4.0+cu92 torchvision==0.5.0+cu92 -f https://download.pytorch.org/whl/torch_stable.html\n",
        "     \n",
        "* Using pip cuda=10.1 and Python=3.6\n",
        "      pip3 install torch torchvision\n",
        "     \n",
        "__For Linux__\n",
        "\n",
        "* Install PyTorch using conda cuda=9.2 and Python=3.6\n",
        "      conda install pytorch torchvision cudatoolkit=9.2 -c pytorch\n",
        "     \n",
        "* Using conda cuda=10.1 and Python=3.6\n",
        "      conda install pytorch torchvision cudatoolkit=10.1 -c pytorch\n",
        "     \n",
        "* Install Pytorch using pip cuda=9.2 and Python=3.6\n",
        "      pip3 install torch==1.4.0+cu92 torchvision==0.5.0+cu92 -f https://download.pytorch.org/whl/torch_stable.html\n",
        "     \n",
        "* Using pip cuda=10.1 and Python=3.6\n",
        "      pip3 install torch torchvision\n",
        "     \n",
        "__For Mac__\n",
        "\n",
        "* Install PyTorch using conda  for cuda=9.2 and 10.1 we can use same command and Python=3.6\n",
        "\n",
        "      conda install pytorch torchvision -c pytorch\n",
        "         # MacOS Binaries dont support CUDA, install from source if CUDA is needed\n",
        "       \n",
        "* Install Pytorch using pip for cuda=9.2 and 10.1 we can use same command and Python=3.6\n",
        "\n",
        "      pip3 install torch torchvision\n",
        "         # MacOS Binaries dont support CUDA, install from source if CUDA is needed\n",
        "      \n",
        "You have to run all these commands in __Anaconda Prompt__ , if you want to install in a notebook just put \" ! \" mark before the command like: !pip3 install torch==1.4.0+cpu torchvision==0.5.0+cpu -f https://download.pytorch.org/whl/torch_stable.html"
      ]
    },
    {
      "cell_type": "markdown",
      "metadata": {
        "id": "xSYF0oAOVJiC"
      },
      "source": [
        "For more information about Installation you can go through this site : \"https://pytorch.org/\""
      ]
    },
    {
      "cell_type": "markdown",
      "metadata": {
        "id": "N3YsAFLbVJiD"
      },
      "source": [
        "### Tensors\n",
        "\n",
        "Tensor is similar to Numpy's ndarray, the additional point for Tensors in we can use it in GPUs to accelerate computing."
      ]
    },
    {
      "cell_type": "code",
      "source": [
        "!pip3 install torch torchvision torchaudio --index-url https://download.pytorch.org/whl/cpu"
      ],
      "metadata": {
        "colab": {
          "base_uri": "https://localhost:8080/"
        },
        "id": "vaI6BfmWVacg",
        "outputId": "6a0e9716-ca78-4d8d-c788-823994570c67"
      },
      "execution_count": 1,
      "outputs": [
        {
          "output_type": "stream",
          "name": "stdout",
          "text": [
            "Looking in indexes: https://download.pytorch.org/whl/cpu, https://us-python.pkg.dev/colab-wheels/public/simple/\n",
            "Requirement already satisfied: torch in /usr/local/lib/python3.9/dist-packages (2.0.0+cu118)\n",
            "Requirement already satisfied: torchvision in /usr/local/lib/python3.9/dist-packages (0.15.1+cu118)\n",
            "Requirement already satisfied: torchaudio in /usr/local/lib/python3.9/dist-packages (2.0.1+cu118)\n",
            "Requirement already satisfied: typing-extensions in /usr/local/lib/python3.9/dist-packages (from torch) (4.5.0)\n",
            "Requirement already satisfied: triton==2.0.0 in /usr/local/lib/python3.9/dist-packages (from torch) (2.0.0)\n",
            "Requirement already satisfied: jinja2 in /usr/local/lib/python3.9/dist-packages (from torch) (3.1.2)\n",
            "Requirement already satisfied: networkx in /usr/local/lib/python3.9/dist-packages (from torch) (3.1)\n",
            "Requirement already satisfied: filelock in /usr/local/lib/python3.9/dist-packages (from torch) (3.11.0)\n",
            "Requirement already satisfied: sympy in /usr/local/lib/python3.9/dist-packages (from torch) (1.11.1)\n",
            "Requirement already satisfied: lit in /usr/local/lib/python3.9/dist-packages (from triton==2.0.0->torch) (16.0.1)\n",
            "Requirement already satisfied: cmake in /usr/local/lib/python3.9/dist-packages (from triton==2.0.0->torch) (3.25.2)\n",
            "Requirement already satisfied: requests in /usr/local/lib/python3.9/dist-packages (from torchvision) (2.27.1)\n",
            "Requirement already satisfied: pillow!=8.3.*,>=5.3.0 in /usr/local/lib/python3.9/dist-packages (from torchvision) (8.4.0)\n",
            "Requirement already satisfied: numpy in /usr/local/lib/python3.9/dist-packages (from torchvision) (1.22.4)\n",
            "Requirement already satisfied: MarkupSafe>=2.0 in /usr/local/lib/python3.9/dist-packages (from jinja2->torch) (2.1.2)\n",
            "Requirement already satisfied: charset-normalizer~=2.0.0 in /usr/local/lib/python3.9/dist-packages (from requests->torchvision) (2.0.12)\n",
            "Requirement already satisfied: certifi>=2017.4.17 in /usr/local/lib/python3.9/dist-packages (from requests->torchvision) (2022.12.7)\n",
            "Requirement already satisfied: urllib3<1.27,>=1.21.1 in /usr/local/lib/python3.9/dist-packages (from requests->torchvision) (1.26.15)\n",
            "Requirement already satisfied: idna<4,>=2.5 in /usr/local/lib/python3.9/dist-packages (from requests->torchvision) (3.4)\n",
            "Requirement already satisfied: mpmath>=0.19 in /usr/local/lib/python3.9/dist-packages (from sympy->torch) (1.3.0)\n"
          ]
        }
      ]
    },
    {
      "cell_type": "code",
      "execution_count": 2,
      "metadata": {
        "id": "60t2ZUjBVJiE"
      },
      "outputs": [],
      "source": [
        "from __future__ import print_function\n",
        "import torch"
      ]
    },
    {
      "cell_type": "markdown",
      "metadata": {
        "id": "9e7FOEtXVJiG"
      },
      "source": [
        "__Note:__ Uninitialized matrix is declared, but doesn't contain definite known values before it is used. When we created an Unintialized matrix, whatever values were allocated inside the memory will apear as the initial values."
      ]
    },
    {
      "cell_type": "markdown",
      "metadata": {
        "id": "aq5QzgCGVJiJ"
      },
      "source": [
        "Construct 6x3 matrix, uninitialized:"
      ]
    },
    {
      "cell_type": "code",
      "execution_count": 3,
      "metadata": {
        "colab": {
          "base_uri": "https://localhost:8080/"
        },
        "id": "wCuYnNmkVJiK",
        "outputId": "db9eb41d-e5ed-4d4c-d2c8-d5674f7628d5"
      },
      "outputs": [
        {
          "output_type": "stream",
          "name": "stdout",
          "text": [
            "tensor([[ 3.9415e+25,  5.7766e+17,  2.7111e+36],\n",
            "        [-1.1462e-33,  9.7704e+21,  2.5832e+30],\n",
            "        [-1.0258e-33,  5.7366e+02,  1.2824e+37],\n",
            "        [-1.0887e-19, -1.0880e-19,  3.9451e+25],\n",
            "        [ 4.1552e+25, -4.4259e-19,  6.3384e+29],\n",
            "        [-1.0258e-33,  2.8494e-14,  2.8355e-38]])\n"
          ]
        }
      ],
      "source": [
        "a = torch.empty(6,3)\n",
        "print(a)"
      ]
    },
    {
      "cell_type": "markdown",
      "metadata": {
        "id": "KmxHEYcAVJiN"
      },
      "source": [
        "Construct a randomly initialized matrix:"
      ]
    },
    {
      "cell_type": "code",
      "execution_count": 4,
      "metadata": {
        "colab": {
          "base_uri": "https://localhost:8080/"
        },
        "id": "pGbIwt3iVJiO",
        "outputId": "f095a2ef-aff6-4e81-a25a-479fad9b41d0"
      },
      "outputs": [
        {
          "output_type": "stream",
          "name": "stdout",
          "text": [
            "tensor([[0.8261, 0.9051, 0.5600],\n",
            "        [0.0555, 0.3323, 0.6190],\n",
            "        [0.9580, 0.3298, 0.1560],\n",
            "        [0.6982, 0.6267, 0.4570]])\n"
          ]
        }
      ],
      "source": [
        "a = torch.rand(4,3)\n",
        "print(a)"
      ]
    },
    {
      "cell_type": "markdown",
      "metadata": {
        "id": "RW3krul9VJiO"
      },
      "source": [
        "Construct a matrix filled zeros and of dtype long:"
      ]
    },
    {
      "cell_type": "code",
      "execution_count": 5,
      "metadata": {
        "colab": {
          "base_uri": "https://localhost:8080/"
        },
        "id": "bxRsJ8XtVJiP",
        "outputId": "2f1880af-7db3-4f36-9873-28cf6cc316a5"
      },
      "outputs": [
        {
          "output_type": "stream",
          "name": "stdout",
          "text": [
            "tensor([[0, 0, 0],\n",
            "        [0, 0, 0],\n",
            "        [0, 0, 0],\n",
            "        [0, 0, 0]])\n"
          ]
        }
      ],
      "source": [
        "a = torch.zeros(4,3, dtype=torch.long)\n",
        "print(a)"
      ]
    },
    {
      "cell_type": "markdown",
      "metadata": {
        "id": "CrD2DogeVJiP"
      },
      "source": [
        "Construct a tensor with data:"
      ]
    },
    {
      "cell_type": "code",
      "execution_count": 6,
      "metadata": {
        "colab": {
          "base_uri": "https://localhost:8080/"
        },
        "id": "VwK9cQoKVJiQ",
        "outputId": "f03487dc-b5d2-495b-de7f-b6c06e71b407"
      },
      "outputs": [
        {
          "output_type": "execute_result",
          "data": {
            "text/plain": [
              "torch.Tensor"
            ]
          },
          "metadata": {},
          "execution_count": 6
        }
      ],
      "source": [
        "a = torch.tensor([7.8, 5])\n",
        "type(a)"
      ]
    },
    {
      "cell_type": "markdown",
      "metadata": {
        "id": "_nyL_oBFVJiQ"
      },
      "source": [
        "or we can create new tensor with existing tensor.These methods we reuse its properties of input tensor, e.g. dtype, unless new values are provided by us."
      ]
    },
    {
      "cell_type": "code",
      "execution_count": 7,
      "metadata": {
        "colab": {
          "base_uri": "https://localhost:8080/"
        },
        "id": "PXjnY8LwVJiR",
        "outputId": "66dd0f1a-9101-4a63-f26f-a5707e9c1948"
      },
      "outputs": [
        {
          "output_type": "stream",
          "name": "stdout",
          "text": [
            "tensor([[1., 1., 1., 1., 1.],\n",
            "        [1., 1., 1., 1., 1.],\n",
            "        [1., 1., 1., 1., 1.],\n",
            "        [1., 1., 1., 1., 1.],\n",
            "        [1., 1., 1., 1., 1.],\n",
            "        [1., 1., 1., 1., 1.]], dtype=torch.float64)\n",
            "tensor([[ 0.8314, -0.3231, -0.3983,  0.4344, -0.3464],\n",
            "        [-0.4300, -0.2230, -2.4614, -0.3242,  0.2056],\n",
            "        [-0.6230,  0.5630, -0.2248, -0.7189,  0.5186],\n",
            "        [ 0.6854,  2.2925, -0.2671, -0.1660, -0.2778],\n",
            "        [-0.1436, -0.3487, -1.0510,  0.3318, -0.5982],\n",
            "        [-0.6885, -0.3069, -0.1272, -1.9448,  0.2393]])\n"
          ]
        }
      ],
      "source": [
        "a = a.new_ones(6,5, dtype=torch.double)    # new methods take in sizes\n",
        "print(a)\n",
        "\n",
        "a = torch.randn_like(a, dtype=torch.float)  # override dtype\n",
        "print(a)                                    # result will be the same size"
      ]
    },
    {
      "cell_type": "markdown",
      "metadata": {
        "id": "-XQcd__AVJiR"
      },
      "source": [
        "Let's get the size:"
      ]
    },
    {
      "cell_type": "code",
      "execution_count": 8,
      "metadata": {
        "colab": {
          "base_uri": "https://localhost:8080/"
        },
        "id": "SOT_by89VJiS",
        "outputId": "74469d5d-1d78-48b5-8d33-fbec03c0ae95"
      },
      "outputs": [
        {
          "output_type": "stream",
          "name": "stdout",
          "text": [
            "torch.Size([6, 5])\n"
          ]
        }
      ],
      "source": [
        "print(a.size())"
      ]
    },
    {
      "cell_type": "markdown",
      "metadata": {
        "id": "zT0_gIFqVJiS"
      },
      "source": [
        "Note: <mark style=\"background-color: Yellow\">torch_size</mark> is actually a tuple, so it supports all tuple operations."
      ]
    },
    {
      "cell_type": "markdown",
      "metadata": {
        "id": "HMYYahfXVJiT"
      },
      "source": [
        "### Operations\n",
        "\n",
        "There are multiple syntaxes for operations. In the following examples, we used addition operation,\n",
        "\n",
        "Addition: syntax1"
      ]
    },
    {
      "cell_type": "code",
      "execution_count": 9,
      "metadata": {
        "colab": {
          "base_uri": "https://localhost:8080/"
        },
        "id": "xRonkmmkVJiT",
        "outputId": "be3c81a7-cad7-4570-8d43-a7483110a73e"
      },
      "outputs": [
        {
          "output_type": "stream",
          "name": "stdout",
          "text": [
            "tensor([[ 1.4649e+00, -1.9880e-01,  3.6861e-03,  9.7405e-01,  2.8565e-01],\n",
            "        [-1.8536e-03,  4.9128e-01, -1.9688e+00,  2.1399e-01,  1.0677e+00],\n",
            "        [-5.8898e-01,  1.4716e+00,  2.6295e-01, -2.7161e-01,  1.1581e+00],\n",
            "        [ 9.5565e-01,  2.9060e+00,  2.0014e-01,  4.3971e-01,  5.6842e-01],\n",
            "        [ 6.5313e-01,  1.1489e-01, -9.9564e-02,  4.8076e-01, -2.8979e-01],\n",
            "        [-5.7127e-01,  5.4170e-01,  6.2708e-01, -1.8725e+00,  6.1954e-01]])\n"
          ]
        }
      ],
      "source": [
        "b = torch.rand(6,5)\n",
        "print(a + b)"
      ]
    },
    {
      "cell_type": "markdown",
      "metadata": {
        "id": "VwDpxoL-VJiU"
      },
      "source": [
        "Addition: syntax2"
      ]
    },
    {
      "cell_type": "code",
      "execution_count": 10,
      "metadata": {
        "colab": {
          "base_uri": "https://localhost:8080/"
        },
        "id": "8tcMWqlBVJiV",
        "outputId": "df2f145e-277e-4019-dde9-850fb4901a06"
      },
      "outputs": [
        {
          "output_type": "stream",
          "name": "stdout",
          "text": [
            "tensor([[ 1.4649e+00, -1.9880e-01,  3.6861e-03,  9.7405e-01,  2.8565e-01],\n",
            "        [-1.8536e-03,  4.9128e-01, -1.9688e+00,  2.1399e-01,  1.0677e+00],\n",
            "        [-5.8898e-01,  1.4716e+00,  2.6295e-01, -2.7161e-01,  1.1581e+00],\n",
            "        [ 9.5565e-01,  2.9060e+00,  2.0014e-01,  4.3971e-01,  5.6842e-01],\n",
            "        [ 6.5313e-01,  1.1489e-01, -9.9564e-02,  4.8076e-01, -2.8979e-01],\n",
            "        [-5.7127e-01,  5.4170e-01,  6.2708e-01, -1.8725e+00,  6.1954e-01]])\n"
          ]
        }
      ],
      "source": [
        "print(torch.add(a,b))"
      ]
    },
    {
      "cell_type": "markdown",
      "metadata": {
        "id": "_aGMKWaZVJiW"
      },
      "source": [
        "Addition: providing an output as an argument"
      ]
    },
    {
      "cell_type": "code",
      "execution_count": 11,
      "metadata": {
        "colab": {
          "base_uri": "https://localhost:8080/"
        },
        "id": "57tQalNaVJia",
        "outputId": "5487b340-2cdb-4399-f664-d650d710c122"
      },
      "outputs": [
        {
          "output_type": "stream",
          "name": "stdout",
          "text": [
            "tensor([[ 1.4649e+00, -1.9880e-01,  3.6861e-03,  9.7405e-01,  2.8565e-01],\n",
            "        [-1.8536e-03,  4.9128e-01, -1.9688e+00,  2.1399e-01,  1.0677e+00],\n",
            "        [-5.8898e-01,  1.4716e+00,  2.6295e-01, -2.7161e-01,  1.1581e+00],\n",
            "        [ 9.5565e-01,  2.9060e+00,  2.0014e-01,  4.3971e-01,  5.6842e-01],\n",
            "        [ 6.5313e-01,  1.1489e-01, -9.9564e-02,  4.8076e-01, -2.8979e-01],\n",
            "        [-5.7127e-01,  5.4170e-01,  6.2708e-01, -1.8725e+00,  6.1954e-01]])\n"
          ]
        }
      ],
      "source": [
        "result = torch.empty(6, 5)\n",
        "torch.add(a, b, out=result)\n",
        "print(result)"
      ]
    },
    {
      "cell_type": "markdown",
      "metadata": {
        "id": "MKwJZrXXVJic"
      },
      "source": [
        "Addition: in place"
      ]
    },
    {
      "cell_type": "code",
      "execution_count": 12,
      "metadata": {
        "colab": {
          "base_uri": "https://localhost:8080/"
        },
        "id": "uv8FkeE1VJid",
        "outputId": "d7a85863-b4d1-4f80-c9d6-9efad84e3620"
      },
      "outputs": [
        {
          "output_type": "stream",
          "name": "stdout",
          "text": [
            "tensor([[ 1.4649e+00, -1.9880e-01,  3.6861e-03,  9.7405e-01,  2.8565e-01],\n",
            "        [-1.8536e-03,  4.9128e-01, -1.9688e+00,  2.1399e-01,  1.0677e+00],\n",
            "        [-5.8898e-01,  1.4716e+00,  2.6295e-01, -2.7161e-01,  1.1581e+00],\n",
            "        [ 9.5565e-01,  2.9060e+00,  2.0014e-01,  4.3971e-01,  5.6842e-01],\n",
            "        [ 6.5313e-01,  1.1489e-01, -9.9564e-02,  4.8076e-01, -2.8979e-01],\n",
            "        [-5.7127e-01,  5.4170e-01,  6.2708e-01, -1.8725e+00,  6.1954e-01]])\n"
          ]
        }
      ],
      "source": [
        "# adds a to b\n",
        "b.add_(a)\n",
        "print(b)"
      ]
    },
    {
      "cell_type": "markdown",
      "metadata": {
        "id": "1kuoAGumVJie"
      },
      "source": [
        "__Note:__ Any operation that mutates a tensor in-place is post-fixed with an <mark style=\"background-color: red\">_.</mark> For example: a.copy_(b), a.b_(), will change a."
      ]
    },
    {
      "cell_type": "markdown",
      "metadata": {
        "id": "0wzFcrE2VJie"
      },
      "source": [
        "We can use standard NumPy-like indexing with all bells and whistles!"
      ]
    },
    {
      "cell_type": "code",
      "execution_count": 13,
      "metadata": {
        "colab": {
          "base_uri": "https://localhost:8080/"
        },
        "id": "J8W_sqVkVJif",
        "outputId": "3b34a4ab-e5b2-4497-a03a-da5dff46229e"
      },
      "outputs": [
        {
          "output_type": "stream",
          "name": "stdout",
          "text": [
            "tensor([-0.3983, -2.4614, -0.2248, -0.2671, -1.0510, -0.1272])\n"
          ]
        }
      ],
      "source": [
        "print(a[:,2])"
      ]
    },
    {
      "cell_type": "markdown",
      "metadata": {
        "id": "yn75-KffVJig"
      },
      "source": [
        "Resizing: We can resize or reshape tensor, use <mark style=\"background-color: Yellow\">tensor.view</mark> for that:"
      ]
    },
    {
      "cell_type": "code",
      "execution_count": 14,
      "metadata": {
        "colab": {
          "base_uri": "https://localhost:8080/"
        },
        "id": "Hza7baynVJig",
        "outputId": "97aaa1cf-c0e7-4fdf-fef5-cf14870f5827"
      },
      "outputs": [
        {
          "output_type": "stream",
          "name": "stdout",
          "text": [
            "torch.Size([3, 3]) torch.Size([9]) torch.Size([1, 9])\n"
          ]
        }
      ],
      "source": [
        "a = torch.randn(3, 3)\n",
        "b = a.view(9)\n",
        "c = a.view(-1, 9)  # the size -1 is inferred from other dimensions\n",
        "print(a.size(), b.size(), c.size())"
      ]
    },
    {
      "cell_type": "markdown",
      "metadata": {
        "id": "o9CJL7pMVJih"
      },
      "source": [
        "If you have one value tensor, use <mark style=\"background-color: Yellow\">.item()</mark> to get the value of the Python number"
      ]
    },
    {
      "cell_type": "code",
      "execution_count": 15,
      "metadata": {
        "colab": {
          "base_uri": "https://localhost:8080/"
        },
        "id": "he1xbS9vVJii",
        "outputId": "dedf2ab1-40ca-4a2f-94b8-20f2c34eb5c3"
      },
      "outputs": [
        {
          "output_type": "stream",
          "name": "stdout",
          "text": [
            "tensor([0.4943])\n",
            "0.4943082928657532\n"
          ]
        }
      ],
      "source": [
        "a = torch.randn(1)\n",
        "print(a)\n",
        "print(a.item())"
      ]
    },
    {
      "cell_type": "markdown",
      "metadata": {
        "id": "AiB-MhndVJij"
      },
      "source": [
        "### NumPy Bridge\n",
        "\n",
        "Converting a Torch Tensor to NumPy array and vice versa is breeze.\n",
        "\n",
        "The Torch Tensor and NumPy array will share their underlying memory locations (if the Torch Tensor is on CPU), and changing one will change the other."
      ]
    },
    {
      "cell_type": "markdown",
      "metadata": {
        "id": "mqehPG6OVJij"
      },
      "source": [
        "__Converting a Torch tensor to NumPy array__"
      ]
    },
    {
      "cell_type": "code",
      "execution_count": 16,
      "metadata": {
        "colab": {
          "base_uri": "https://localhost:8080/"
        },
        "id": "5r8IqAHWVJik",
        "outputId": "96554cea-582f-4494-bf4a-f052f45f5b6d"
      },
      "outputs": [
        {
          "output_type": "stream",
          "name": "stdout",
          "text": [
            "tensor([1., 1., 1., 1.])\n"
          ]
        }
      ],
      "source": [
        "x = torch.ones(4)\n",
        "print(x)"
      ]
    },
    {
      "cell_type": "code",
      "execution_count": 18,
      "metadata": {
        "colab": {
          "base_uri": "https://localhost:8080/"
        },
        "id": "x8P3SiodVJik",
        "outputId": "f9beb832-4e29-4a01-f00b-82a53615739e"
      },
      "outputs": [
        {
          "output_type": "stream",
          "name": "stdout",
          "text": [
            "[1. 1. 1. 1.]\n"
          ]
        },
        {
          "output_type": "execute_result",
          "data": {
            "text/plain": [
              "numpy.ndarray"
            ]
          },
          "metadata": {},
          "execution_count": 18
        }
      ],
      "source": [
        "y = x.numpy()\n",
        "print(y)\n",
        "type(y)"
      ]
    },
    {
      "cell_type": "markdown",
      "metadata": {
        "id": "25LfX8LzVJil"
      },
      "source": [
        "See how numpy array changed in value"
      ]
    },
    {
      "cell_type": "code",
      "execution_count": 19,
      "metadata": {
        "colab": {
          "base_uri": "https://localhost:8080/"
        },
        "id": "qcBd4O2pVJim",
        "outputId": "6e579e41-1852-4c00-aff6-bba7b5d2d6f8"
      },
      "outputs": [
        {
          "output_type": "stream",
          "name": "stdout",
          "text": [
            "tensor([2., 2., 2., 2.])\n",
            "[2. 2. 2. 2.]\n"
          ]
        }
      ],
      "source": [
        "x.add_(1)\n",
        "print(x)\n",
        "print(y)"
      ]
    },
    {
      "cell_type": "markdown",
      "metadata": {
        "id": "1nMs85XAVJim"
      },
      "source": [
        "__Converting NumPy array to Torch tensor__"
      ]
    },
    {
      "cell_type": "markdown",
      "metadata": {
        "id": "Cc7hL08mVJin"
      },
      "source": [
        "lets see how changing the numpy array changed the Torch Tensor automatically"
      ]
    },
    {
      "cell_type": "code",
      "execution_count": 27,
      "metadata": {
        "colab": {
          "base_uri": "https://localhost:8080/"
        },
        "id": "PMHfpZl3VJin",
        "outputId": "94be4b3b-dbb2-4be9-dea6-e3eb049c2562"
      },
      "outputs": [
        {
          "output_type": "stream",
          "name": "stdout",
          "text": [
            "[2. 2. 2. 2.]\n",
            "<class 'numpy.ndarray'>\n",
            "tensor([2., 2., 2., 2.], dtype=torch.float64)\n",
            "<class 'torch.Tensor'>\n"
          ]
        }
      ],
      "source": [
        "import numpy as np\n",
        "f = np.ones(4)\n",
        "g = torch.from_numpy(f)\n",
        "np.add(f, 1, out=f)\n",
        "print(f)\n",
        "print(type(f))\n",
        "print(g)\n",
        "print(type(g))"
      ]
    },
    {
      "cell_type": "markdown",
      "metadata": {
        "id": "a4aSPJkgVJip"
      },
      "source": [
        "All the Tensors on the CPU except a CharTensor support converting to NumPy and back.\n",
        "\n",
        "__CUDA Tensors__\n",
        "\n",
        "Tensors can be moved onto any device using the <mark style=\"background-color: Yellow\">.to</mark> method."
      ]
    },
    {
      "cell_type": "code",
      "execution_count": 28,
      "metadata": {
        "id": "5wyM_BkyVJir"
      },
      "outputs": [],
      "source": [
        "# let us run this cell only if CUDA is available\n",
        "# We will use ``torch.device`` objects to move tensors in and out of GPU\n",
        "if torch.cuda.is_available():\n",
        "    device = torch.device(\"cuda\")          # a CUDA device object\n",
        "    y = torch.ones_like(x, device=device)  # directly create a tensor on GPU\n",
        "    x = x.to(device)                       # or just use strings ``.to(\"cuda\")``\n",
        "    z = x + y\n",
        "    print(z)\n",
        "    print(z.to(\"cpu\", torch.double))       # ``.to`` can also change dtype together!"
      ]
    },
    {
      "cell_type": "markdown",
      "metadata": {
        "id": "kCscaXV_VJit"
      },
      "source": [
        "## AUTOGRAD : Automatic Differentiaition"
      ]
    },
    {
      "cell_type": "markdown",
      "metadata": {
        "id": "PCmNr2m2VJit"
      },
      "source": [
        "Definition - \n",
        "\n",
        "  - This class is an engine to calculate derivatives. It records the graph of all the operations performed on a gradient      enabled tensor and creates a acyclic graph called the dynamic computational graph(DCG).The leaves of this graph are input tensors and the roots are output tensors. Gradients are calculated by tracing the graph from the root to the leaf and multiplying every gradient in the way using the chain rule."
      ]
    },
    {
      "cell_type": "markdown",
      "metadata": {
        "id": "ikUapEvtVJiu"
      },
      "source": [
        "Let us see this in some more easy terms with some examples"
      ]
    },
    {
      "cell_type": "markdown",
      "metadata": {
        "id": "CXtJUC8YVJiu"
      },
      "source": [
        "## Tensor\n",
        "\n",
        "<mark style=\"background-color: Yellow\">torch.Tensor</mark> is the central class of the package.If we set its attribute <mark style=\"background-color: Yellow\">.requires_grad</mark> as <mark style=\"background-color: dark grey\">True</mark>, it starts to track all operations on it. When you finish your computation you can call <mark style=\"background-color: Yellow\">.backward()</mark> and have all the gradients computed automatically. The gradient of this tensor will be accumulated into <mark style=\"background-color: Yellow\">.grad</mark> attribute."
      ]
    },
    {
      "cell_type": "markdown",
      "metadata": {
        "id": "KRHgoa26VJiv"
      },
      "source": [
        "To stop a tensor from tracking history, you can call <mark style=\"background-color: Yellow\">.detach()</mark> to detach it from the computation history, and to prevent future computation from being tracked.\n",
        "\n",
        "\n",
        "To prevent tracking history(and using memory), you can also wrap the code block in with <mark style=\"background-color: Yellow\">torch.no_grad():</mark>. This can be particularly helpful when evaluating a model because the model may have trainable parameters with <mark style=\"background-color: Yellow\">requires_grad=True</mark>, but for which we don’t need the gradients.\n",
        "\n",
        "There's one more class which is very important in autograd implementation - a <mark style=\"background-color: Yellow\">Function</mark>\n",
        "\n",
        "<mark style=\"background-color: Yellow\">Tensor</mark> and <mark style=\"background-color: Yellow\">Function</mark> are interconnected and build up an acyclic graph, that encodes a complete history of computation. Each tensor has a <mark style=\"background-color: Yellow\">.grad_fn</mark> attribute that references a Function that has created the Tensor (except for Tensors created by the user - their <mark style=\"background-color: Yellow\">grad_fn is None</mark>).\n",
        "\n",
        "If you want to compute the derivatives, you can call <mark style=\"background-color: Yellow\">.backward()</mark> on a <mark style=\"background-color: Yellow\">Tensor</mark>. If <mark style=\"background-color: Yellow\">Tensor</mark> is a scalar (i.e. it holds a one element data), you don’t need to specify any arguments to <mark style=\"background-color: Yellow\">backward()</mark>, however if it has more elements, you need to specify a <mark style=\"background-color: Yellow\">gradient</mark> argument that is a tensor of matching shape."
      ]
    },
    {
      "cell_type": "code",
      "execution_count": 30,
      "metadata": {
        "id": "oDFSn-vOVJiw"
      },
      "outputs": [],
      "source": [
        "import torch"
      ]
    },
    {
      "cell_type": "markdown",
      "metadata": {
        "id": "GtZHoi51VJi0"
      },
      "source": [
        "Create a tensor and set requires_grad=True to track computation with it."
      ]
    },
    {
      "cell_type": "code",
      "execution_count": 31,
      "metadata": {
        "colab": {
          "base_uri": "https://localhost:8080/"
        },
        "id": "s3ACyMYEVJi1",
        "outputId": "2f1c6c8a-18e8-44ad-a636-f0bf1aff0bf4"
      },
      "outputs": [
        {
          "output_type": "stream",
          "name": "stdout",
          "text": [
            "tensor([[1., 1.],\n",
            "        [1., 1.]], requires_grad=True)\n"
          ]
        }
      ],
      "source": [
        "a = torch.ones(2, 2, requires_grad=True)\n",
        "print(a)"
      ]
    },
    {
      "cell_type": "markdown",
      "metadata": {
        "id": "RWXFRo-dVJi1"
      },
      "source": [
        "Do a tensor operation:"
      ]
    },
    {
      "cell_type": "code",
      "execution_count": 32,
      "metadata": {
        "colab": {
          "base_uri": "https://localhost:8080/"
        },
        "id": "3q_utkdLVJi2",
        "outputId": "7c53ed64-9350-47b8-8c2a-c2e27446f458"
      },
      "outputs": [
        {
          "output_type": "stream",
          "name": "stdout",
          "text": [
            "tensor([[3., 3.],\n",
            "        [3., 3.]], grad_fn=<AddBackward0>)\n"
          ]
        }
      ],
      "source": [
        "b = a + 2\n",
        "print(b)"
      ]
    },
    {
      "cell_type": "markdown",
      "metadata": {
        "id": "Y4AgMPrrVJi3"
      },
      "source": [
        "b was created as a result of an operatio, so it has a <mark style=\"background-color: Yellow\">grad_fn</mark>"
      ]
    },
    {
      "cell_type": "code",
      "execution_count": 33,
      "metadata": {
        "colab": {
          "base_uri": "https://localhost:8080/"
        },
        "id": "Sq_gGILIVJi3",
        "outputId": "be20705f-845e-41f0-8739-b0e5ecd9d2bc"
      },
      "outputs": [
        {
          "output_type": "stream",
          "name": "stdout",
          "text": [
            "<AddBackward0 object at 0x7f9efe825a90>\n"
          ]
        }
      ],
      "source": [
        "print(b.grad_fn)"
      ]
    },
    {
      "cell_type": "markdown",
      "metadata": {
        "id": "5s_TzFdnVJi4"
      },
      "source": [
        "Do more operation on b"
      ]
    },
    {
      "cell_type": "code",
      "execution_count": 34,
      "metadata": {
        "colab": {
          "base_uri": "https://localhost:8080/"
        },
        "id": "uQe72KKwVJi9",
        "outputId": "7059a411-17b0-459e-f76f-edc0340e012b"
      },
      "outputs": [
        {
          "output_type": "stream",
          "name": "stdout",
          "text": [
            "tensor([[27., 27.],\n",
            "        [27., 27.]], grad_fn=<MulBackward0>) tensor(27., grad_fn=<MeanBackward0>)\n"
          ]
        }
      ],
      "source": [
        "c = b * b * 3\n",
        "out = c.mean()\n",
        "\n",
        "print(c, out)"
      ]
    },
    {
      "cell_type": "markdown",
      "metadata": {
        "id": "flkaCgGpVJi-"
      },
      "source": [
        "<mark style=\"background-color: Yellow\">.requires_grad_( ... )</mark>  changes an existing Tensor’s <mark style=\"background-color: Yellow\">requires_grad</mark> flag in-place. The input flag defaults to False if not given."
      ]
    },
    {
      "cell_type": "code",
      "execution_count": 35,
      "metadata": {
        "colab": {
          "base_uri": "https://localhost:8080/"
        },
        "id": "JExIiG2sVJi_",
        "outputId": "20078dca-0955-449d-e0d4-a12ef22a5674"
      },
      "outputs": [
        {
          "output_type": "stream",
          "name": "stdout",
          "text": [
            "False\n",
            "True\n",
            "<SumBackward0 object at 0x7f9fbd020b80>\n"
          ]
        }
      ],
      "source": [
        "p = torch.randn(3, 3)\n",
        "p = ((p * 3) / (p - 1))\n",
        "print(p.requires_grad)\n",
        "p.requires_grad_(True)\n",
        "print(p.requires_grad)\n",
        "q = (p * p).sum()\n",
        "print(q.grad_fn)"
      ]
    },
    {
      "cell_type": "markdown",
      "metadata": {
        "id": "ye0tKlFrVJjA"
      },
      "source": [
        "## Gradients\n",
        "\n",
        "Let's backdrop now. Because <mark style=\"background-color: magenta\">out</mark> contains a single scalar, <mark style=\"background-color: Yellow\">out.backword</mark> is equivalent to  <mark style=\"background-color: Yellow\">out.backward(torch.tensor(1.))</mark>. "
      ]
    },
    {
      "cell_type": "code",
      "execution_count": 36,
      "metadata": {
        "id": "igmo90coVJjB"
      },
      "outputs": [],
      "source": [
        "out.backward()"
      ]
    },
    {
      "cell_type": "markdown",
      "metadata": {
        "id": "IxJuZ3MxVJjB"
      },
      "source": [
        "Print gradients d(out)/dx"
      ]
    },
    {
      "cell_type": "code",
      "execution_count": 37,
      "metadata": {
        "colab": {
          "base_uri": "https://localhost:8080/"
        },
        "id": "66kJtlmAVJjC",
        "outputId": "70b98d1e-ea64-4576-a009-4cceb8f5ee68"
      },
      "outputs": [
        {
          "output_type": "stream",
          "name": "stdout",
          "text": [
            "tensor([[4.5000, 4.5000],\n",
            "        [4.5000, 4.5000]])\n"
          ]
        }
      ],
      "source": [
        "print(a.grad)"
      ]
    },
    {
      "cell_type": "markdown",
      "metadata": {
        "id": "Am2TiYPjVJjC"
      },
      "source": [
        "You should have got a matrix of 4.5. Let’s call the out Tensor “o”. We have that \n",
        "\n",
        "$o= \\frac{1}{4} \\sum c_i $ $c_i= 3(a_i+2)^2$  and $c_i|_{a_i=1}= 27$ . \n",
        "\n",
        "Therefore, $\\frac{\\partial_0}{\\partial a_i}=\\frac{3(x_i+2)}{2}$, \n",
        "\n",
        "hence\n",
        "$\\frac{\\partial_0}{\\partial a_i}|_{a_i=1} = \\frac{9}{2} = 4.5$\n",
        "\n"
      ]
    },
    {
      "cell_type": "markdown",
      "metadata": {
        "id": "IT3bxBeLVJjD"
      },
      "source": [
        "### Mathematically - Jacobians and vectors\n",
        "\n",
        "Mathematically, the autograd class is just a Jacobian-vector product computing engine. A Jacobian matrix in very simple words is a matrix representing all the possible partial derivatives of two vectors. It’s the gradient of a vector with respect to another vector.\n",
        "\n",
        "If a vector X = [x1, x2,….xn] is used to calculate some other vector f(X) = [f1, f2, …. fn] through a function f then the Jacobian matrix (J) simply contains all the partial derivative combinations as follows:\n",
        "\n",
        "<img src=\"jacobian-vector.png\">\n",
        "\n",
        "Above matrix represents the gradient of f(X)with respect to X\n",
        "Suppose a PyTorch gradient enabled tensors X as:\n",
        "X = [x1, x2, ….. xn] (Let this be the weights of some machine learning model)\n",
        "X undergoes some operations to form a vector Y\n",
        "Y = f(X) = [y1, y2, …. ym]\n",
        "Y is then used to calculate a scalar loss l. Suppose a vector v happens to be the gradient of the scalar loss l with respect the vector Y as follows\n",
        "\n",
        "<img src=\"jacob1.png\">       *The vector v is called the grad_tensor and passed to the backward() function as an argument*\n",
        "\n",
        "To get the gradient of the loss l with respect to the weights X the Jacobian matrix J is vector-multiplied with the vector v.\n",
        "\n",
        "<img src=\"jac1.png\"> \n",
        "\n",
        "This method of calculating the Jacobian matrix and multiplying it with a vector v enables the possibility for PyTorch to feed external gradients with ease for even the non-scalar outputs."
      ]
    },
    {
      "cell_type": "markdown",
      "metadata": {
        "id": "Y_vr493nVJjE"
      },
      "source": [
        "Now let's have a look at an example of vector-Jacobian product:"
      ]
    },
    {
      "cell_type": "code",
      "execution_count": 38,
      "metadata": {
        "colab": {
          "base_uri": "https://localhost:8080/"
        },
        "id": "j4ipJlqDVJjE",
        "outputId": "c771e552-48b3-4468-a1f4-758320ae3145"
      },
      "outputs": [
        {
          "output_type": "stream",
          "name": "stdout",
          "text": [
            "tensor([  -59.3139,   167.5763, -1071.7189], grad_fn=<MulBackward0>)\n"
          ]
        }
      ],
      "source": [
        "x = torch.randn(3, requires_grad=True)\n",
        "\n",
        "y = x * 2\n",
        "while y.data.norm() < 1000:\n",
        "    y = y * 2\n",
        "\n",
        "print(y)"
      ]
    },
    {
      "cell_type": "markdown",
      "metadata": {
        "id": "WP7b1UIGVJjF"
      },
      "source": [
        "Now in this case y is no longer a scalar.<mark style=\"background-color: Yellow\">torch.autograd(torch.tensor(1.))</mark> could not compute the full Jacobian directly, but if we just want the vector-Jacobian product, simply pass the vector to backward as argument:"
      ]
    },
    {
      "cell_type": "code",
      "execution_count": 39,
      "metadata": {
        "colab": {
          "base_uri": "https://localhost:8080/"
        },
        "id": "JTDVt2oGVJjF",
        "outputId": "455b7397-62da-4473-cc8e-12b0c69cdc3b"
      },
      "outputs": [
        {
          "output_type": "stream",
          "name": "stdout",
          "text": [
            "tensor([5.1200e+01, 5.1200e+02, 5.1200e-02])\n"
          ]
        }
      ],
      "source": [
        "v = torch.tensor([0.1, 1.0, 0.0001], dtype=torch.float)\n",
        "y.backward(v)\n",
        "\n",
        "print(x.grad)"
      ]
    },
    {
      "cell_type": "markdown",
      "metadata": {
        "id": "V-sZyD1ZVJjG"
      },
      "source": [
        "You can also stop autograd from tracking history on Tensors with <mark style=\"background-color: Yellow\">.requires_grad=True</mark> either by wrapping the code block in with <mark style=\"background-color: Yellow\">torch.no_grad()</mark>:"
      ]
    },
    {
      "cell_type": "code",
      "execution_count": 40,
      "metadata": {
        "colab": {
          "base_uri": "https://localhost:8080/"
        },
        "id": "4gpyGW6gVJjG",
        "outputId": "409b11b9-4c36-4472-bb7b-be107dc6dff5"
      },
      "outputs": [
        {
          "output_type": "stream",
          "name": "stdout",
          "text": [
            "True\n",
            "True\n",
            "False\n"
          ]
        }
      ],
      "source": [
        "print(x.requires_grad)\n",
        "print((x ** 2).requires_grad)\n",
        "\n",
        "with torch.no_grad():\n",
        "    print((x ** 2).requires_grad)"
      ]
    },
    {
      "cell_type": "markdown",
      "metadata": {
        "id": "x72Afg-UVJjH"
      },
      "source": [
        "Or by using .detach() to get a new Tensor with the same content but that does not require gradients:"
      ]
    },
    {
      "cell_type": "code",
      "execution_count": 41,
      "metadata": {
        "colab": {
          "base_uri": "https://localhost:8080/"
        },
        "id": "rNR0fa0lVJjI",
        "outputId": "9160d0f7-6db0-49a7-89c2-23a8567ef7f4"
      },
      "outputs": [
        {
          "output_type": "stream",
          "name": "stdout",
          "text": [
            "True\n",
            "False\n",
            "tensor(True)\n"
          ]
        }
      ],
      "source": [
        "print(x.requires_grad)\n",
        "y = x.detach()\n",
        "print(y.requires_grad)\n",
        "print(x.eq(y).all())"
      ]
    },
    {
      "cell_type": "markdown",
      "metadata": {
        "id": "rSe0KjVMVJjI"
      },
      "source": [
        "## Neural Networks\n",
        "\n",
        "We can construct neural networks using the <mark style=\"background-color: Yellow\">torch.nn</mark> package.\n",
        "\n",
        "Now that you had a glimpse of autograd, nn depends on autograd to define models and differentiate them. An nn.Module contains layers, and a method forward(input)that returns the output.\n",
        "\n",
        "For example, look at this network that classifies digit images:\n",
        "<img src=\"neural.png\"> \n",
        "\n",
        "\n",
        "### convnet\n",
        "\n",
        "It is a simple feed-forward network. It takes the input,feeds it through several layers one after the other, and then finally gives the output.\n",
        "\n",
        "A typical training procedure for a neural network is as follows:\n",
        "- Define the neural network that has some learnable parameters (or weights)\n",
        "- Iterate over a dataset of inputs\n",
        "- Process input through the network\n",
        "- Compute the loss (how far is the output from being correct)\n",
        "- Propagate gradients back into the network’s parameters\n",
        "- Update the weights of the network, typically using a simple update rule: <mark style=\"background-color: light-blue\">weight = weight - learning_rate * gradient</mark>\n",
        "        \n",
        "### Define the network\n",
        "\n",
        "Let's define the network:"
      ]
    },
    {
      "cell_type": "code",
      "execution_count": 42,
      "metadata": {
        "colab": {
          "base_uri": "https://localhost:8080/"
        },
        "id": "5XdJQJecVJjJ",
        "outputId": "4bb368ec-b50e-46a1-db6d-0536d80a1a37"
      },
      "outputs": [
        {
          "output_type": "stream",
          "name": "stdout",
          "text": [
            "network(\n",
            "  (conv1): Conv2d(1, 6, kernel_size=(3, 3), stride=(1, 1))\n",
            "  (conv2): Conv2d(6, 16, kernel_size=(3, 3), stride=(1, 1))\n",
            "  (fc1): Linear(in_features=576, out_features=120, bias=True)\n",
            "  (fc2): Linear(in_features=120, out_features=84, bias=True)\n",
            "  (fc3): Linear(in_features=84, out_features=10, bias=True)\n",
            ")\n"
          ]
        }
      ],
      "source": [
        "import torch\n",
        "import torch.nn as nn\n",
        "import torch.nn.functional as F\n",
        "\n",
        "\n",
        "class network(nn.Module):\n",
        "\n",
        "    def __init__(self):\n",
        "        super(network, self).__init__()\n",
        "        # 1 input image channel, 6 output channels, 3x3 square convolution\n",
        "        # kernel\n",
        "        self.conv1 = nn.Conv2d(1, 6, 3)\n",
        "        self.conv2 = nn.Conv2d(6, 16, 3)\n",
        "        # an affine operation: y = mx + b\n",
        "        self.fc1 = nn.Linear(16 * 6 * 6, 120)  # 6*6 from image dimension\n",
        "        self.fc2 = nn.Linear(120, 84)\n",
        "        self.fc3 = nn.Linear(84, 10)\n",
        "\n",
        "    def forward(self, x):\n",
        "        # Max pooling over a (2, 2) window\n",
        "        x = F.max_pool2d(F.relu(self.conv1(x)), (2, 2))\n",
        "        # If the size is a square you can only specify a single number\n",
        "        x = F.max_pool2d(F.relu(self.conv2(x)), 2)\n",
        "        x = x.view(-1, self.num_flat_features(x))\n",
        "        x = F.relu(self.fc1(x))\n",
        "        x = F.relu(self.fc2(x))\n",
        "        x = self.fc3(x)\n",
        "        return x\n",
        "\n",
        "    def num_flat_features(self, x):\n",
        "        size = x.size()[1:]  # all dimensions except the batch dimension\n",
        "        num_features = 1\n",
        "        for s in size:\n",
        "            num_features *= s\n",
        "        return num_features\n",
        "\n",
        "\n",
        "net = network()\n",
        "print(net)"
      ]
    },
    {
      "cell_type": "markdown",
      "metadata": {
        "id": "h2wwZRCBVJjM"
      },
      "source": [
        "You just have to define the <mark style=\"background-color: yellow\">forward</mark>,  and the <mark style=\"background-color: yellow\">backward</mark> function (where gradients are computed) is automatically defined for you using autograd. You can use any of the Tensor operations in the <mark style=\"background-color: yellow\">forward</mark> function.\n",
        "\n",
        "The learnable parameters of a model are returned by <mark style=\"background-color: yellow\">net.parameters()</mark>."
      ]
    },
    {
      "cell_type": "code",
      "source": [
        "list(net.parameters())"
      ],
      "metadata": {
        "colab": {
          "base_uri": "https://localhost:8080/"
        },
        "id": "v9osr_KdrW4w",
        "outputId": "083899e4-1e4c-4fa5-f193-643ee36b00c1"
      },
      "execution_count": 44,
      "outputs": [
        {
          "output_type": "execute_result",
          "data": {
            "text/plain": [
              "[Parameter containing:\n",
              " tensor([[[[ 0.1246, -0.0043, -0.2982],\n",
              "           [-0.3045, -0.3179, -0.1261],\n",
              "           [ 0.2472, -0.0940,  0.1724]]],\n",
              " \n",
              " \n",
              "         [[[ 0.2349,  0.2912,  0.2296],\n",
              "           [-0.2342,  0.1112,  0.0220],\n",
              "           [-0.0319,  0.1502,  0.0171]]],\n",
              " \n",
              " \n",
              "         [[[-0.3101, -0.2692, -0.2753],\n",
              "           [-0.2131, -0.1096,  0.2173],\n",
              "           [-0.2358, -0.0895,  0.3044]]],\n",
              " \n",
              " \n",
              "         [[[-0.1937, -0.0809, -0.1368],\n",
              "           [-0.2633, -0.1642,  0.1442],\n",
              "           [-0.1966, -0.1124,  0.3080]]],\n",
              " \n",
              " \n",
              "         [[[-0.2746,  0.2007,  0.0263],\n",
              "           [-0.2987, -0.1110, -0.1486],\n",
              "           [ 0.1078, -0.3299, -0.1849]]],\n",
              " \n",
              " \n",
              "         [[[ 0.1480,  0.1898,  0.2972],\n",
              "           [-0.0883,  0.3043,  0.2803],\n",
              "           [-0.3239, -0.3076, -0.2225]]]], requires_grad=True),\n",
              " Parameter containing:\n",
              " tensor([ 0.0982,  0.0961, -0.0833,  0.1337,  0.0585,  0.1169],\n",
              "        requires_grad=True),\n",
              " Parameter containing:\n",
              " tensor([[[[-9.6496e-02,  4.2236e-02,  4.9828e-02],\n",
              "           [ 1.3184e-01,  1.1659e-01, -1.1039e-01],\n",
              "           [-6.7577e-02,  4.8294e-02,  6.4213e-02]],\n",
              " \n",
              "          [[-1.3396e-01,  1.9493e-02, -8.3654e-02],\n",
              "           [ 1.3208e-01,  2.3926e-02,  3.5458e-02],\n",
              "           [ 5.4838e-03, -9.5982e-02,  8.4202e-02]],\n",
              " \n",
              "          [[ 4.5695e-02, -3.2923e-02, -1.1347e-01],\n",
              "           [ 3.9083e-02,  5.8626e-02,  5.8648e-02],\n",
              "           [ 3.3943e-02, -1.3375e-01,  1.2599e-01]],\n",
              " \n",
              "          [[ 7.0776e-02, -4.1487e-03,  7.1498e-02],\n",
              "           [ 3.3174e-02,  4.0922e-02,  2.6302e-03],\n",
              "           [ 1.1968e-01,  7.5216e-02,  3.3103e-02]],\n",
              " \n",
              "          [[ 1.2085e-01, -1.0525e-01, -8.9436e-02],\n",
              "           [ 1.0882e-01, -4.6602e-02,  2.0325e-02],\n",
              "           [-6.4763e-02,  1.2002e-01, -8.8181e-02]],\n",
              " \n",
              "          [[ 1.2436e-01, -1.1773e-01,  4.6414e-03],\n",
              "           [ 7.4368e-03,  3.0770e-02, -9.8837e-02],\n",
              "           [-1.0324e-01, -5.5168e-02, -2.0640e-02]]],\n",
              " \n",
              " \n",
              "         [[[-1.0356e-01,  1.3434e-01,  4.4222e-02],\n",
              "           [-1.2148e-01, -7.7465e-02,  3.0925e-02],\n",
              "           [-9.0756e-02,  1.2658e-02,  3.1201e-02]],\n",
              " \n",
              "          [[ 1.2749e-01,  9.4889e-02, -9.7314e-02],\n",
              "           [-6.4241e-02,  7.8991e-02, -1.3488e-01],\n",
              "           [-1.1413e-01, -2.3496e-02, -9.7328e-02]],\n",
              " \n",
              "          [[-5.5287e-02, -4.2268e-02, -6.4137e-02],\n",
              "           [-1.9649e-02,  8.6799e-02, -8.6449e-02],\n",
              "           [-1.3273e-02,  3.9961e-02, -9.7330e-02]],\n",
              " \n",
              "          [[-5.8051e-02,  5.4265e-02, -1.4656e-02],\n",
              "           [-1.7807e-02, -6.2632e-02,  8.4421e-02],\n",
              "           [ 5.4591e-02, -1.1894e-01, -6.2392e-02]],\n",
              " \n",
              "          [[ 1.0142e-01,  2.7158e-02,  4.9532e-02],\n",
              "           [-4.2672e-02,  4.9154e-02, -7.3775e-02],\n",
              "           [ 1.8764e-02, -1.3207e-01,  9.2540e-02]],\n",
              " \n",
              "          [[ 4.9240e-02, -1.2945e-01, -1.2386e-02],\n",
              "           [-1.2575e-01, -4.2139e-02, -2.1692e-03],\n",
              "           [ 3.4077e-02, -8.7179e-03,  1.3360e-01]]],\n",
              " \n",
              " \n",
              "         [[[-6.8838e-04,  1.0455e-01,  5.1459e-02],\n",
              "           [-5.6998e-02, -2.6763e-03, -5.0450e-02],\n",
              "           [-4.8546e-02,  1.1601e-01, -6.4225e-02]],\n",
              " \n",
              "          [[ 1.2285e-01, -6.5467e-02, -4.6442e-02],\n",
              "           [-9.5831e-02, -4.0369e-02,  1.1395e-01],\n",
              "           [-3.7362e-02,  1.2842e-01, -4.7453e-02]],\n",
              " \n",
              "          [[-5.1335e-02, -9.5930e-02,  1.1987e-01],\n",
              "           [-6.1087e-02,  1.2188e-01,  1.2446e-01],\n",
              "           [ 9.1950e-02,  4.9759e-02,  1.6502e-03]],\n",
              " \n",
              "          [[ 8.4310e-02,  9.6379e-02, -1.1276e-01],\n",
              "           [-3.5617e-02,  1.0584e-01,  1.2473e-01],\n",
              "           [-1.3221e-01, -1.2686e-01, -1.0460e-01]],\n",
              " \n",
              "          [[ 3.1001e-02,  2.0196e-02, -4.1553e-02],\n",
              "           [ 5.5339e-02, -1.3485e-01,  4.6534e-02],\n",
              "           [-5.1368e-02,  2.7150e-02, -2.2660e-03]],\n",
              " \n",
              "          [[-1.0207e-02,  5.8434e-03, -6.2557e-02],\n",
              "           [ 5.9064e-02,  1.3061e-02, -9.4147e-02],\n",
              "           [ 2.6167e-03,  7.3791e-02,  1.0082e-01]]],\n",
              " \n",
              " \n",
              "         [[[-8.0450e-02,  1.2456e-02,  3.4165e-02],\n",
              "           [ 1.0344e-01,  5.6373e-02, -1.0843e-01],\n",
              "           [ 3.1686e-02, -5.1344e-02,  1.1874e-02]],\n",
              " \n",
              "          [[ 1.0652e-02, -8.7326e-02, -3.8500e-02],\n",
              "           [-3.2602e-02, -4.4974e-02,  2.2011e-02],\n",
              "           [ 9.6622e-02, -5.4730e-02, -7.6947e-02]],\n",
              " \n",
              "          [[ 1.1735e-01, -9.5897e-02,  6.6823e-02],\n",
              "           [ 6.2989e-02,  1.1185e-01,  4.4250e-02],\n",
              "           [-7.5851e-02, -4.6891e-02, -4.2979e-02]],\n",
              " \n",
              "          [[-1.4264e-02,  4.5189e-02,  9.1329e-02],\n",
              "           [ 1.0984e-01,  9.5743e-02, -6.7114e-02],\n",
              "           [ 6.0089e-02, -5.0405e-02, -1.0026e-01]],\n",
              " \n",
              "          [[ 1.2597e-01,  9.0055e-02, -9.9225e-02],\n",
              "           [-8.7477e-02, -2.3354e-02,  4.7914e-02],\n",
              "           [-3.0275e-02,  6.7701e-02, -1.1339e-01]],\n",
              " \n",
              "          [[ 3.1792e-02, -4.4461e-03,  3.9564e-02],\n",
              "           [-1.1926e-01, -4.1349e-02, -6.1758e-02],\n",
              "           [-1.2228e-01,  1.2803e-01,  1.2257e-01]]],\n",
              " \n",
              " \n",
              "         [[[ 7.4223e-02, -1.2071e-01, -6.8057e-02],\n",
              "           [-4.5652e-02, -1.2672e-01, -2.4847e-02],\n",
              "           [-4.9407e-02, -1.3461e-01,  4.9708e-02]],\n",
              " \n",
              "          [[-3.9578e-02, -1.0377e-03, -1.0889e-01],\n",
              "           [ 1.0890e-01, -8.7889e-02, -5.4934e-02],\n",
              "           [ 7.9593e-03,  5.2797e-02, -3.1413e-02]],\n",
              " \n",
              "          [[ 5.6413e-02,  3.7753e-02, -1.7513e-02],\n",
              "           [-3.0055e-02, -5.5034e-02, -1.2781e-01],\n",
              "           [-5.4743e-03, -6.7935e-02, -5.3709e-02]],\n",
              " \n",
              "          [[ 1.3560e-01,  1.2791e-01,  1.1143e-01],\n",
              "           [ 9.8939e-02, -9.2521e-02,  9.1828e-02],\n",
              "           [-2.3145e-02, -2.0098e-02,  6.1827e-02]],\n",
              " \n",
              "          [[ 7.6434e-02,  1.2654e-01, -8.4992e-02],\n",
              "           [ 1.3273e-01,  4.9374e-02,  5.0038e-02],\n",
              "           [-1.2022e-01,  6.8742e-02, -1.0515e-02]],\n",
              " \n",
              "          [[-2.7063e-02,  1.4998e-02,  5.3438e-02],\n",
              "           [ 3.3860e-02, -7.7240e-02, -5.5242e-02],\n",
              "           [-5.7411e-02, -1.2379e-01, -6.4640e-02]]],\n",
              " \n",
              " \n",
              "         [[[ 6.6348e-02,  1.0025e-01,  1.0306e-01],\n",
              "           [-7.4829e-02,  5.3768e-02, -3.4230e-03],\n",
              "           [ 3.6787e-02, -2.9524e-02, -8.2955e-02]],\n",
              " \n",
              "          [[ 2.9980e-02, -1.1806e-01, -2.5747e-02],\n",
              "           [-6.2177e-02, -1.3042e-01,  6.5282e-02],\n",
              "           [ 1.0026e-02,  6.6517e-03, -7.7723e-03]],\n",
              " \n",
              "          [[ 3.5958e-02,  2.1453e-02, -6.5688e-03],\n",
              "           [-4.4681e-02, -1.0867e-01,  3.8704e-02],\n",
              "           [ 3.8006e-02, -2.4581e-02, -5.8082e-02]],\n",
              " \n",
              "          [[ 1.3090e-01, -5.4873e-02, -1.1027e-01],\n",
              "           [ 4.4887e-03, -8.5562e-02,  9.5040e-02],\n",
              "           [-1.3106e-01, -4.1140e-02,  1.2661e-01]],\n",
              " \n",
              "          [[ 8.6382e-02, -8.1820e-03, -6.7194e-02],\n",
              "           [-3.0515e-02, -1.1806e-01, -6.2355e-02],\n",
              "           [-1.1880e-01,  5.9132e-03,  4.6285e-02]],\n",
              " \n",
              "          [[-1.2964e-01,  1.1339e-01,  1.1546e-01],\n",
              "           [ 3.6262e-02,  1.2888e-01,  2.6385e-02],\n",
              "           [-1.2310e-03, -2.0985e-02,  6.1341e-03]]],\n",
              " \n",
              " \n",
              "         [[[ 6.4488e-03,  3.4547e-02, -9.8106e-02],\n",
              "           [-3.5036e-02, -4.2470e-02, -5.5251e-03],\n",
              "           [-7.2638e-02,  3.4820e-02, -4.7590e-02]],\n",
              " \n",
              "          [[-3.2884e-02, -9.9898e-02, -8.1889e-02],\n",
              "           [ 3.0908e-02, -1.1617e-01,  5.3619e-02],\n",
              "           [-5.8384e-02,  3.0016e-02,  1.5179e-03]],\n",
              " \n",
              "          [[-9.9392e-02,  1.3512e-01, -8.0447e-02],\n",
              "           [-1.0902e-01, -1.0430e-01, -8.0128e-02],\n",
              "           [-6.5575e-02, -3.4836e-02,  7.1606e-02]],\n",
              " \n",
              "          [[-6.0713e-02,  8.9758e-02, -3.1944e-02],\n",
              "           [ 1.2924e-01, -4.3400e-02,  5.0773e-02],\n",
              "           [-6.3520e-02, -1.0515e-01,  4.6344e-02]],\n",
              " \n",
              "          [[ 1.2667e-01, -7.0089e-02,  3.2747e-02],\n",
              "           [-2.0315e-03, -1.2019e-01, -1.2353e-01],\n",
              "           [ 4.3528e-02, -1.0706e-01, -1.3262e-01]],\n",
              " \n",
              "          [[ 1.3492e-01,  5.7333e-02,  2.3076e-02],\n",
              "           [ 3.2326e-02,  1.0522e-01,  7.0152e-02],\n",
              "           [-1.2156e-01,  9.1902e-02,  1.1780e-01]]],\n",
              " \n",
              " \n",
              "         [[[-8.7032e-02,  3.9545e-02,  3.8332e-02],\n",
              "           [-1.2697e-02, -1.0301e-01, -5.7041e-02],\n",
              "           [-6.0696e-02, -5.0081e-02,  3.8564e-02]],\n",
              " \n",
              "          [[-5.8473e-02, -1.2584e-01,  1.1251e-01],\n",
              "           [ 6.3015e-02,  4.5786e-02,  9.7472e-02],\n",
              "           [ 2.0523e-02,  2.0837e-02,  8.7418e-02]],\n",
              " \n",
              "          [[-1.2955e-01, -3.0263e-02,  6.1220e-02],\n",
              "           [-1.1607e-01, -8.0091e-02, -4.1210e-02],\n",
              "           [ 6.3287e-02, -2.8885e-02, -6.1872e-02]],\n",
              " \n",
              "          [[ 2.2363e-02, -1.3568e-01,  1.2460e-01],\n",
              "           [-5.1432e-02,  8.0108e-02,  7.0407e-02],\n",
              "           [-8.4341e-02, -3.0392e-02, -5.1898e-02]],\n",
              " \n",
              "          [[-5.9617e-02,  8.6382e-02,  2.7977e-02],\n",
              "           [ 1.3285e-01,  2.7842e-03,  9.4838e-02],\n",
              "           [ 1.1454e-01, -6.2154e-02, -4.6895e-02]],\n",
              " \n",
              "          [[-4.7755e-02, -2.0634e-02,  1.2480e-01],\n",
              "           [-6.5948e-02,  6.8249e-02, -4.7502e-02],\n",
              "           [-8.7598e-02, -7.6320e-02, -1.2570e-01]]],\n",
              " \n",
              " \n",
              "         [[[ 5.4789e-02,  1.1014e-01,  2.4987e-02],\n",
              "           [-2.9701e-02, -7.6562e-03,  1.0788e-01],\n",
              "           [-1.1309e-01, -1.1060e-01,  7.7717e-02]],\n",
              " \n",
              "          [[-6.2845e-02,  1.0490e-01,  5.4204e-02],\n",
              "           [-9.5194e-02,  3.9491e-02,  2.9662e-02],\n",
              "           [ 7.3313e-02,  3.3315e-02, -1.0978e-01]],\n",
              " \n",
              "          [[ 8.6244e-02,  8.8133e-02, -5.0467e-02],\n",
              "           [-1.0407e-01,  2.9594e-02, -3.6252e-02],\n",
              "           [-1.3280e-01, -3.5547e-03,  9.6170e-02]],\n",
              " \n",
              "          [[-1.3121e-01,  1.3302e-01, -8.0786e-02],\n",
              "           [-1.2741e-01,  1.0719e-01,  7.4325e-02],\n",
              "           [ 3.9618e-02,  1.0673e-01, -1.0040e-01]],\n",
              " \n",
              "          [[ 3.7260e-02, -6.6036e-02,  4.7760e-02],\n",
              "           [ 4.0360e-02,  7.3001e-02, -5.7911e-02],\n",
              "           [ 1.2480e-01, -1.5400e-02,  7.9621e-02]],\n",
              " \n",
              "          [[-1.2884e-01,  3.5058e-02,  6.2290e-02],\n",
              "           [-7.1152e-02,  1.0219e-01,  1.3556e-01],\n",
              "           [ 8.6510e-02, -1.1275e-02,  1.2731e-01]]],\n",
              " \n",
              " \n",
              "         [[[-5.2704e-02, -6.4354e-02, -1.0332e-01],\n",
              "           [ 7.5034e-02,  5.6836e-02, -4.5416e-02],\n",
              "           [-1.9942e-03, -1.2686e-01, -8.5636e-02]],\n",
              " \n",
              "          [[-7.9265e-02, -1.0710e-02, -7.1735e-02],\n",
              "           [ 1.6773e-02,  9.0392e-02, -8.1501e-02],\n",
              "           [ 6.5235e-02, -6.0815e-02, -5.1124e-02]],\n",
              " \n",
              "          [[-5.7610e-02,  5.3469e-02, -1.2421e-01],\n",
              "           [-1.0605e-01, -2.7419e-02,  6.5632e-02],\n",
              "           [ 5.0166e-02, -1.0797e-01,  9.6779e-02]],\n",
              " \n",
              "          [[ 9.6019e-02,  2.1371e-02, -7.1263e-02],\n",
              "           [ 1.1844e-01,  4.1438e-02, -9.7830e-02],\n",
              "           [-6.2398e-02,  6.7071e-02,  9.3801e-02]],\n",
              " \n",
              "          [[-4.8899e-02, -2.2141e-02, -5.6101e-02],\n",
              "           [ 9.1957e-02, -3.4879e-02,  6.7984e-02],\n",
              "           [-2.7694e-02,  1.3138e-01,  5.8539e-02]],\n",
              " \n",
              "          [[ 6.4328e-04,  1.3214e-01, -2.9762e-02],\n",
              "           [-1.2812e-01, -5.6428e-02, -1.9551e-02],\n",
              "           [ 3.3501e-02, -7.8242e-02,  1.2428e-01]]],\n",
              " \n",
              " \n",
              "         [[[-1.7277e-03, -9.3829e-02,  7.3390e-05],\n",
              "           [-9.9958e-02,  6.9885e-02, -5.8212e-02],\n",
              "           [ 3.8474e-02, -7.8197e-02,  7.3321e-02]],\n",
              " \n",
              "          [[-7.7530e-02, -1.2238e-02, -3.6470e-02],\n",
              "           [-1.0118e-01, -9.8226e-02, -5.7217e-02],\n",
              "           [-1.2339e-01, -5.4384e-02,  5.2216e-04]],\n",
              " \n",
              "          [[-1.1640e-01, -1.2128e-01, -1.0763e-01],\n",
              "           [ 9.9138e-02, -1.2064e-01, -7.1887e-02],\n",
              "           [-1.2955e-02, -1.1997e-01, -3.0776e-03]],\n",
              " \n",
              "          [[ 1.3394e-01,  9.4839e-02,  1.2363e-01],\n",
              "           [ 2.0197e-02,  7.6431e-02,  4.0850e-03],\n",
              "           [-3.3120e-02,  5.8050e-02,  1.1552e-01]],\n",
              " \n",
              "          [[ 3.2598e-02,  1.2661e-02, -8.9070e-02],\n",
              "           [ 7.8796e-02, -9.5053e-02, -9.6947e-02],\n",
              "           [-2.9495e-02, -4.8724e-02, -1.2024e-01]],\n",
              " \n",
              "          [[ 1.1125e-01, -7.5169e-02, -6.1002e-02],\n",
              "           [ 2.5113e-02,  2.2407e-02, -4.1016e-02],\n",
              "           [-5.0647e-02, -1.3350e-01, -1.0950e-01]]],\n",
              " \n",
              " \n",
              "         [[[-1.0064e-01,  1.2051e-01, -9.4544e-02],\n",
              "           [-6.4774e-02, -7.8988e-02, -6.6382e-02],\n",
              "           [ 5.6582e-02, -1.2840e-01, -2.8514e-02]],\n",
              " \n",
              "          [[-1.9922e-02, -8.8645e-02, -1.5165e-02],\n",
              "           [-1.5404e-02, -6.7854e-02, -1.1796e-01],\n",
              "           [-2.5191e-02,  1.1149e-01, -1.3338e-02]],\n",
              " \n",
              "          [[ 6.8499e-02,  8.8088e-02, -7.2676e-03],\n",
              "           [ 7.8850e-03, -6.3920e-02,  1.1217e-01],\n",
              "           [ 9.9866e-02,  8.9267e-02, -8.9894e-02]],\n",
              " \n",
              "          [[-9.7057e-03,  6.3874e-02,  1.1039e-01],\n",
              "           [ 7.3091e-02,  1.3059e-01, -8.6216e-02],\n",
              "           [ 1.2981e-01, -1.3005e-01,  1.1679e-01]],\n",
              " \n",
              "          [[ 2.2415e-02,  7.2341e-02, -1.3431e-01],\n",
              "           [ 1.0282e-01, -1.2870e-01,  1.3556e-01],\n",
              "           [-4.1589e-02, -2.5167e-02, -1.8599e-03]],\n",
              " \n",
              "          [[-4.9043e-02,  5.3582e-02,  1.3386e-01],\n",
              "           [ 7.0964e-02, -1.0513e-01, -1.2939e-01],\n",
              "           [-2.8989e-02,  2.3142e-02,  4.5783e-02]]],\n",
              " \n",
              " \n",
              "         [[[ 1.1293e-01, -2.0260e-03, -1.2252e-01],\n",
              "           [-6.7765e-02, -7.9986e-02, -7.7673e-02],\n",
              "           [-1.8835e-02, -1.3526e-01, -5.1710e-02]],\n",
              " \n",
              "          [[ 2.5828e-02, -1.3352e-01,  1.2953e-01],\n",
              "           [ 7.3404e-02,  1.1110e-01,  1.3372e-01],\n",
              "           [-3.9203e-02, -1.3345e-01,  3.4221e-02]],\n",
              " \n",
              "          [[-1.2803e-01, -2.6194e-02,  6.9806e-02],\n",
              "           [-8.1535e-02, -3.3087e-02,  1.1677e-01],\n",
              "           [-1.2467e-01, -1.0351e-01, -8.0359e-02]],\n",
              " \n",
              "          [[-1.1133e-01,  2.1727e-02, -1.0963e-01],\n",
              "           [ 1.2471e-01, -8.2467e-02, -1.3475e-01],\n",
              "           [ 2.7674e-02,  6.3206e-02,  2.7839e-02]],\n",
              " \n",
              "          [[-1.2749e-01,  4.6185e-02,  5.8925e-02],\n",
              "           [ 2.4671e-02,  1.2080e-01,  7.6611e-02],\n",
              "           [ 4.5740e-02, -1.2056e-02,  2.2836e-02]],\n",
              " \n",
              "          [[-8.7715e-02,  4.5852e-03,  3.7799e-02],\n",
              "           [ 5.3298e-02,  2.4205e-02, -5.6582e-03],\n",
              "           [-3.1763e-02,  1.3142e-01, -3.4664e-02]]],\n",
              " \n",
              " \n",
              "         [[[-1.2550e-01, -8.0749e-02,  6.1118e-02],\n",
              "           [-7.2153e-02,  1.0974e-01,  7.0353e-03],\n",
              "           [ 7.0428e-02, -1.9529e-02,  7.9694e-02]],\n",
              " \n",
              "          [[ 4.9278e-02,  1.2896e-01,  6.3620e-02],\n",
              "           [ 2.4729e-02,  1.0816e-01, -2.0086e-02],\n",
              "           [ 1.3566e-01,  2.3124e-02, -8.3688e-02]],\n",
              " \n",
              "          [[ 7.8567e-02, -9.3103e-02, -8.4051e-02],\n",
              "           [ 7.1496e-02,  1.3429e-01,  7.4538e-02],\n",
              "           [-1.0334e-01, -1.1639e-01, -5.0446e-02]],\n",
              " \n",
              "          [[ 9.4882e-02, -9.3294e-02,  1.0600e-01],\n",
              "           [ 9.3998e-02,  9.4007e-02, -3.8011e-02],\n",
              "           [-1.3160e-01, -1.1525e-01, -1.0630e-01]],\n",
              " \n",
              "          [[-2.8381e-02, -8.4226e-02,  9.2278e-02],\n",
              "           [-5.3050e-02, -8.7645e-02,  9.0612e-03],\n",
              "           [-4.6813e-02,  7.8454e-02, -1.2172e-01]],\n",
              " \n",
              "          [[-1.1468e-03, -1.1912e-01,  4.4403e-02],\n",
              "           [-1.3356e-01, -6.2910e-02,  5.0357e-04],\n",
              "           [ 6.5778e-02,  4.1643e-02,  5.7801e-02]]],\n",
              " \n",
              " \n",
              "         [[[ 1.1249e-03,  6.9989e-02, -6.5617e-02],\n",
              "           [ 1.5730e-02, -3.2357e-02,  8.3942e-02],\n",
              "           [ 3.4126e-03, -9.6274e-02, -7.0168e-02]],\n",
              " \n",
              "          [[-6.4129e-02,  1.3399e-01,  4.6179e-03],\n",
              "           [-1.0580e-01,  4.3012e-02,  6.4942e-02],\n",
              "           [ 7.6186e-02, -8.0408e-02, -8.5710e-02]],\n",
              " \n",
              "          [[ 9.5028e-02, -1.2106e-02, -7.1355e-02],\n",
              "           [-6.4855e-02, -1.0042e-01,  1.4252e-02],\n",
              "           [ 1.1035e-01,  1.6229e-02,  1.0447e-01]],\n",
              " \n",
              "          [[ 1.0069e-01,  9.2011e-02,  1.0606e-01],\n",
              "           [-2.5459e-02,  5.4556e-02, -5.3539e-02],\n",
              "           [-5.8787e-02,  1.3312e-01,  9.6797e-02]],\n",
              " \n",
              "          [[-9.5004e-02,  2.1989e-02, -1.2336e-01],\n",
              "           [ 9.3335e-02,  3.2207e-02, -1.2550e-01],\n",
              "           [ 3.9976e-02, -2.2953e-02,  1.2892e-01]],\n",
              " \n",
              "          [[-9.6958e-03, -1.0174e-01, -1.0666e-01],\n",
              "           [ 5.3329e-02, -5.4751e-02, -1.2555e-01],\n",
              "           [ 7.7502e-02, -9.1342e-02,  1.2099e-02]]],\n",
              " \n",
              " \n",
              "         [[[ 2.5705e-02, -1.2506e-01,  1.3211e-01],\n",
              "           [ 7.6732e-02, -7.9059e-03, -9.0649e-04],\n",
              "           [ 9.1293e-02,  2.4440e-03,  2.6263e-02]],\n",
              " \n",
              "          [[-8.9591e-02,  1.1423e-02, -1.2184e-01],\n",
              "           [ 2.8669e-02,  9.4611e-02, -7.4584e-02],\n",
              "           [-1.3297e-01, -7.1338e-02, -1.3151e-01]],\n",
              " \n",
              "          [[-7.0392e-02, -6.1815e-02, -4.6485e-02],\n",
              "           [ 1.3167e-01,  9.3138e-02, -2.8051e-02],\n",
              "           [ 1.0638e-01, -7.6116e-02,  9.4517e-02]],\n",
              " \n",
              "          [[-4.7839e-02, -4.9132e-02, -4.7730e-02],\n",
              "           [ 1.0699e-01,  3.9164e-02,  5.1617e-02],\n",
              "           [ 9.4748e-02,  6.0165e-03,  3.1454e-02]],\n",
              " \n",
              "          [[ 9.3330e-02, -5.2326e-02,  1.9814e-02],\n",
              "           [ 3.0215e-02,  1.0379e-01, -1.1996e-01],\n",
              "           [-2.8848e-02,  1.2313e-01,  5.0437e-02]],\n",
              " \n",
              "          [[ 5.9121e-02,  6.3141e-02, -6.5160e-02],\n",
              "           [ 1.5514e-02,  1.1247e-01,  2.8973e-02],\n",
              "           [ 6.5514e-02,  8.3846e-02,  7.8411e-02]]]], requires_grad=True),\n",
              " Parameter containing:\n",
              " tensor([ 0.0489, -0.0802, -0.1182,  0.0843, -0.0142,  0.0851, -0.1211, -0.0104,\n",
              "         -0.0499,  0.1153,  0.1001, -0.1351, -0.0019,  0.1175, -0.1116,  0.0110],\n",
              "        requires_grad=True),\n",
              " Parameter containing:\n",
              " tensor([[-0.0223,  0.0107,  0.0176,  ..., -0.0261,  0.0082, -0.0280],\n",
              "         [-0.0053,  0.0206,  0.0340,  ...,  0.0236, -0.0356,  0.0274],\n",
              "         [ 0.0200,  0.0269, -0.0018,  ..., -0.0072, -0.0035,  0.0239],\n",
              "         ...,\n",
              "         [ 0.0149,  0.0382,  0.0359,  ...,  0.0280, -0.0217, -0.0218],\n",
              "         [ 0.0051, -0.0230,  0.0233,  ...,  0.0075,  0.0074,  0.0098],\n",
              "         [ 0.0328, -0.0007,  0.0045,  ..., -0.0207,  0.0403,  0.0266]],\n",
              "        requires_grad=True),\n",
              " Parameter containing:\n",
              " tensor([-2.8254e-02, -2.3409e-03,  3.9656e-03, -9.6252e-03, -3.9104e-02,\n",
              "         -2.9377e-02,  3.1112e-02,  3.6988e-02, -9.1239e-03,  3.5377e-02,\n",
              "         -2.6259e-02, -3.7448e-02, -4.1320e-02,  8.5657e-03, -2.7283e-02,\n",
              "          1.4343e-02, -1.5695e-02,  1.0975e-03, -3.3825e-02, -1.5089e-02,\n",
              "         -3.6499e-02,  3.5113e-02,  6.3003e-03,  2.9710e-02,  1.4431e-02,\n",
              "         -1.5562e-02,  1.2239e-03, -3.6855e-03, -2.8115e-02,  3.3586e-02,\n",
              "          9.8193e-03,  2.5145e-02,  8.2491e-03, -5.6481e-03, -4.1581e-02,\n",
              "          3.3202e-02,  2.2451e-02, -2.6004e-02, -3.8328e-02, -5.3137e-03,\n",
              "          2.8831e-02,  4.4654e-05, -1.0531e-02, -3.8569e-02,  1.1980e-02,\n",
              "          3.2207e-02,  2.6230e-02, -2.1770e-02,  3.9340e-02,  3.9038e-02,\n",
              "          4.0580e-03, -3.6590e-02,  2.4187e-02, -1.0703e-02,  2.9011e-02,\n",
              "         -3.7112e-02, -2.6353e-02,  7.7789e-03, -3.2771e-02,  2.2527e-02,\n",
              "          3.4015e-02,  1.5808e-02,  1.4714e-02, -1.5744e-02, -7.3657e-03,\n",
              "         -1.0156e-02, -3.3348e-02, -1.8933e-02,  3.6862e-02,  7.2372e-03,\n",
              "         -4.9225e-03, -1.1560e-02, -4.0585e-02, -5.5250e-03,  3.9162e-02,\n",
              "         -2.0954e-02,  2.4680e-02,  1.1487e-02, -3.8074e-02, -2.3430e-02,\n",
              "         -4.1533e-02,  1.5070e-02,  9.4233e-03,  2.4849e-02, -1.5816e-02,\n",
              "         -1.8117e-02,  4.0211e-02,  2.3756e-02, -1.4454e-02,  4.7466e-03,\n",
              "          1.8995e-03, -1.7502e-02, -3.8656e-02, -2.9703e-02,  2.4217e-02,\n",
              "          1.9380e-02, -2.2117e-02,  2.5573e-02,  2.4493e-02,  8.0283e-03,\n",
              "          1.8996e-02,  5.5254e-03,  1.2335e-02,  3.8409e-02, -1.4239e-02,\n",
              "          1.2455e-02,  1.2145e-02, -2.5558e-02,  3.4336e-02, -2.6398e-02,\n",
              "         -1.9803e-02, -3.7226e-02, -5.9510e-03,  2.1767e-02, -3.2119e-02,\n",
              "         -4.9508e-03, -2.1781e-02, -1.8689e-02, -1.1155e-02,  4.0156e-02],\n",
              "        requires_grad=True),\n",
              " Parameter containing:\n",
              " tensor([[ 0.0901,  0.0905,  0.0114,  ...,  0.0050,  0.0129, -0.0093],\n",
              "         [-0.0160,  0.0136, -0.0612,  ...,  0.0790, -0.0322,  0.0891],\n",
              "         [-0.0572, -0.0474,  0.0370,  ..., -0.0599,  0.0877,  0.0836],\n",
              "         ...,\n",
              "         [-0.0764, -0.0694,  0.0815,  ..., -0.0502,  0.0320, -0.0228],\n",
              "         [ 0.0658, -0.0359,  0.0814,  ...,  0.0697, -0.0346,  0.0149],\n",
              "         [ 0.0034, -0.0179,  0.0105,  ...,  0.0636,  0.0545, -0.0144]],\n",
              "        requires_grad=True),\n",
              " Parameter containing:\n",
              " tensor([ 4.5435e-02,  7.7707e-02, -3.6662e-03,  8.1841e-02,  4.9364e-02,\n",
              "         -4.2274e-02, -5.5324e-03, -7.6087e-03,  7.2703e-02,  3.1109e-02,\n",
              "          8.5943e-02, -6.8989e-02,  6.5623e-02, -8.8136e-05,  3.4961e-02,\n",
              "          2.3338e-02,  7.9173e-02,  6.0422e-02, -2.9417e-02, -7.9871e-02,\n",
              "          3.0212e-02,  1.8954e-02,  7.4616e-02, -1.8211e-03,  1.2900e-02,\n",
              "         -8.5597e-02,  7.7056e-02, -2.4925e-02,  3.6155e-02, -3.7831e-02,\n",
              "         -1.5865e-02, -5.9085e-02,  3.2462e-02,  9.0374e-02, -2.0810e-02,\n",
              "         -5.7149e-02, -8.8263e-02, -8.6342e-02,  6.1883e-02, -7.8181e-02,\n",
              "         -4.8436e-02,  1.3973e-02, -1.9196e-02, -8.8722e-03,  5.7045e-02,\n",
              "         -1.3290e-02,  4.8864e-02, -5.2243e-02,  3.4647e-02,  4.3577e-02,\n",
              "          3.5529e-02,  6.7230e-02, -6.6392e-02, -5.8105e-02,  1.8870e-03,\n",
              "          7.3639e-02, -3.7221e-02, -2.3208e-03, -5.8136e-02,  5.8317e-02,\n",
              "         -4.5506e-02,  7.1682e-02, -4.1966e-02, -1.3619e-02, -2.1895e-03,\n",
              "          2.6224e-02,  1.3265e-02, -3.2013e-02, -1.5788e-02,  4.6250e-02,\n",
              "         -5.4691e-02, -3.1870e-02, -3.1104e-02, -1.2232e-02, -1.4400e-02,\n",
              "         -7.9828e-02,  1.8970e-02, -5.9963e-02,  8.8915e-02,  5.0075e-02,\n",
              "          8.7627e-02,  4.7367e-02, -4.3645e-02, -3.9587e-02],\n",
              "        requires_grad=True),\n",
              " Parameter containing:\n",
              " tensor([[ 4.8202e-02, -6.7386e-02,  2.9270e-02, -4.8500e-02,  7.9747e-02,\n",
              "           4.1699e-02, -6.2271e-02,  5.9861e-02,  6.8263e-02, -1.1740e-02,\n",
              "          -3.6682e-02,  5.0528e-02,  8.0141e-02, -3.4625e-02,  2.9398e-02,\n",
              "           9.5990e-02,  1.0760e-01,  1.5319e-02, -1.9153e-02,  7.1851e-02,\n",
              "           2.5338e-02, -5.0563e-02, -5.4407e-02,  7.1424e-03, -1.7333e-02,\n",
              "          -1.3342e-02,  4.3245e-02, -6.4746e-02,  7.0917e-02, -2.0839e-02,\n",
              "           1.1555e-03,  5.1512e-02,  9.5610e-02, -8.5129e-02,  2.9988e-02,\n",
              "          -1.9041e-02,  8.5378e-04, -3.8519e-02,  2.4079e-02, -4.9595e-02,\n",
              "          -8.1822e-02,  7.2988e-02, -1.0297e-01,  4.1598e-02, -1.0681e-01,\n",
              "           2.4784e-02,  1.8914e-02,  1.6763e-02, -2.9557e-02, -6.4289e-03,\n",
              "          -6.1321e-02,  7.3329e-02,  1.2744e-02, -1.1698e-02, -6.6189e-03,\n",
              "           1.2867e-02,  6.6133e-02,  5.2453e-02, -7.8694e-02, -1.0154e-01,\n",
              "          -5.5618e-02, -6.7044e-02,  3.6350e-03, -1.0277e-01, -1.0221e-02,\n",
              "           7.8152e-02, -3.5255e-02,  5.5183e-03, -5.6972e-02, -4.3175e-02,\n",
              "           4.5887e-02, -1.1992e-02, -4.8769e-02, -2.2160e-02, -7.4900e-02,\n",
              "           8.0830e-02, -4.0432e-02, -9.3754e-02,  5.9270e-02,  6.8732e-02,\n",
              "           7.0631e-02, -9.3525e-02, -6.0074e-02, -6.0289e-02],\n",
              "         [-1.3445e-03,  5.0310e-02,  4.1872e-02,  7.0545e-02,  4.4513e-02,\n",
              "           7.1037e-02,  5.9785e-03, -1.0219e-01,  8.4955e-02,  1.5407e-02,\n",
              "           9.0985e-02, -1.2724e-02,  6.2047e-02,  8.5738e-02,  4.2199e-02,\n",
              "           1.0055e-01,  4.5694e-03, -6.7008e-02,  1.0040e-01, -7.6098e-02,\n",
              "          -9.0450e-02,  9.5686e-02, -8.6007e-02, -7.1879e-02,  7.7834e-02,\n",
              "           5.9365e-02, -6.9402e-02,  5.3102e-02,  8.9500e-02, -1.1054e-02,\n",
              "          -1.0151e-01,  2.5262e-02, -7.4447e-02,  8.1706e-02, -5.5122e-02,\n",
              "          -4.4408e-02,  8.7120e-02,  7.7744e-02, -6.2681e-02, -3.3667e-02,\n",
              "          -4.4106e-03,  5.4538e-02, -1.6867e-02,  6.4854e-02,  8.9308e-02,\n",
              "          -5.7192e-02, -1.0694e-01, -5.6810e-02, -4.3768e-05, -5.3179e-03,\n",
              "           8.8973e-02, -4.7576e-02,  3.5233e-02,  4.3799e-03, -2.8383e-02,\n",
              "           7.5472e-03,  1.7123e-02, -4.1678e-02,  1.0403e-02, -1.0619e-02,\n",
              "          -6.2188e-02, -1.6264e-02, -4.1206e-02, -5.5703e-02, -1.6192e-02,\n",
              "           9.3609e-02,  8.9237e-02, -9.7385e-02,  7.3645e-03,  5.8204e-02,\n",
              "           7.9995e-02,  5.2340e-03, -3.7766e-02,  3.1257e-02,  1.0237e-01,\n",
              "           2.1853e-03, -7.5868e-02,  6.7283e-02,  1.5566e-02,  9.7395e-02,\n",
              "           1.0341e-01, -7.2158e-02, -3.2803e-02, -3.9184e-02],\n",
              "         [-7.6920e-02, -6.9945e-02,  4.3166e-02, -6.9357e-02,  7.2527e-02,\n",
              "          -5.1190e-02, -4.6707e-02, -7.5950e-02, -1.6157e-02,  2.2655e-04,\n",
              "           1.0057e-01, -8.3501e-04, -6.1245e-02,  7.0014e-02,  3.6253e-02,\n",
              "           3.8331e-02, -5.6509e-02,  4.6378e-02,  1.0264e-02,  2.1000e-02,\n",
              "           6.2493e-03,  7.2921e-02,  1.5055e-02,  1.0024e-01,  7.0663e-02,\n",
              "           3.1869e-02,  1.0190e-01,  9.1417e-02, -3.4446e-02, -1.2072e-02,\n",
              "           4.5259e-03,  7.8356e-02,  1.6727e-02, -3.7169e-02, -4.3983e-02,\n",
              "          -1.9828e-02,  5.3063e-02,  7.4472e-02,  9.7168e-03,  3.1307e-02,\n",
              "           2.0359e-02, -1.6867e-02,  9.4828e-02, -7.2673e-02, -8.9422e-02,\n",
              "          -6.6901e-02,  5.9311e-02,  6.3108e-02,  6.5455e-02,  8.6187e-02,\n",
              "           3.6289e-02,  4.2065e-02,  6.6771e-03,  2.4188e-02,  7.6517e-02,\n",
              "          -3.2329e-03,  1.9612e-02, -6.2968e-02,  7.6594e-02,  2.5367e-03,\n",
              "          -7.4415e-02, -8.0008e-02, -8.2388e-02,  7.5449e-02,  1.0690e-01,\n",
              "          -1.0077e-01,  7.5120e-03, -8.4336e-02, -9.3817e-02, -4.8517e-02,\n",
              "           4.7012e-02,  1.0189e-01,  3.3050e-03,  8.9353e-02, -9.3718e-02,\n",
              "          -8.8658e-02, -8.9431e-02,  2.2006e-02, -8.9913e-02, -1.4911e-02,\n",
              "          -1.1077e-02, -8.1690e-02, -1.0316e-01, -9.0329e-02],\n",
              "         [-7.3522e-02, -1.4949e-02,  3.2435e-02,  2.2300e-02,  1.0665e-01,\n",
              "          -2.8820e-02,  1.0189e-01,  1.1815e-02, -7.8190e-02, -1.3483e-02,\n",
              "          -2.3205e-02,  4.8184e-03,  1.0048e-01,  3.1528e-02,  7.8959e-02,\n",
              "           1.7238e-02,  6.0463e-02,  2.8355e-02,  5.9364e-02, -2.5185e-02,\n",
              "          -5.4737e-02,  7.2028e-02,  2.4588e-02,  3.1580e-02, -6.4642e-02,\n",
              "          -1.5040e-02,  4.7038e-02,  9.4889e-02,  9.3802e-02, -1.3802e-02,\n",
              "          -3.7900e-02,  3.1505e-02,  3.9981e-02, -7.5243e-02,  4.2269e-02,\n",
              "           2.5443e-03, -4.7037e-02,  1.0331e-01,  9.2744e-02,  5.3330e-02,\n",
              "           4.3696e-02,  7.0180e-02, -4.0199e-02,  2.2797e-02, -5.0239e-02,\n",
              "          -9.8364e-02,  2.3421e-02, -7.4006e-02,  2.5525e-03,  5.7658e-02,\n",
              "           1.0465e-01,  4.6667e-02, -4.2384e-02, -9.9757e-02, -9.9252e-03,\n",
              "          -2.8905e-02, -5.5018e-02, -9.8026e-02, -8.8120e-02,  4.1061e-02,\n",
              "           5.2407e-02,  8.0818e-03, -2.9521e-02, -7.1161e-02, -8.0694e-02,\n",
              "           8.2680e-02,  6.9930e-02,  3.3808e-02,  5.3322e-02, -2.2999e-02,\n",
              "          -3.9634e-02,  3.9022e-02,  7.5365e-02, -5.5604e-02,  2.7625e-02,\n",
              "           5.7739e-02,  2.2621e-02,  9.8271e-02, -7.4442e-02, -5.9096e-02,\n",
              "           5.9552e-02,  1.0316e-01, -1.0094e-01, -7.7129e-02],\n",
              "         [-2.5042e-02, -1.0907e-01, -7.2808e-02, -6.3222e-02, -9.4963e-02,\n",
              "          -2.8760e-02, -5.8432e-02, -1.6692e-02, -1.0192e-01,  1.0858e-01,\n",
              "          -1.5134e-03, -9.4994e-02, -8.3219e-03,  4.4218e-02, -8.0289e-02,\n",
              "           1.2628e-02,  5.6563e-02, -5.1410e-02,  6.6467e-02, -8.0785e-02,\n",
              "           6.3927e-02, -2.1616e-02, -9.1871e-02,  6.6071e-02, -7.0404e-02,\n",
              "          -8.3679e-02, -1.0395e-01, -7.0793e-03,  8.7317e-02,  3.5953e-02,\n",
              "           3.9943e-02,  1.0798e-01,  1.0169e-01, -1.5220e-02, -4.3097e-02,\n",
              "           2.0275e-02,  1.0746e-01,  2.8360e-02, -8.2142e-02, -9.3566e-02,\n",
              "          -3.2710e-02, -2.2358e-02,  2.3062e-02,  9.7995e-02,  5.3865e-02,\n",
              "          -1.0321e-01, -6.6150e-02,  1.8191e-02,  5.2657e-04,  6.1369e-02,\n",
              "          -1.4774e-02, -1.0464e-02, -7.9708e-03,  1.5894e-02,  4.8039e-03,\n",
              "          -5.9679e-02, -2.7427e-02,  6.1036e-02,  3.1215e-02,  3.4724e-02,\n",
              "          -4.5044e-02, -6.3037e-02, -1.0462e-01, -1.3509e-02, -2.6658e-02,\n",
              "           8.2234e-02,  4.9140e-02,  7.3339e-02,  5.8142e-02,  1.8474e-02,\n",
              "          -6.1229e-02, -8.3688e-02, -9.0651e-02,  5.3922e-02, -4.6560e-02,\n",
              "          -3.8034e-02,  2.0099e-02,  9.9220e-02,  6.3140e-02, -1.4471e-02,\n",
              "          -7.6014e-02,  6.9500e-02,  3.7093e-02, -8.7354e-02],\n",
              "         [ 1.0302e-01, -6.3066e-02, -7.6873e-02, -2.1385e-02,  9.2869e-02,\n",
              "          -5.8886e-02,  2.9230e-02, -5.8326e-02,  3.4935e-03, -3.5601e-02,\n",
              "          -8.8691e-02,  3.9397e-02,  4.5765e-02,  1.0909e-01,  6.3599e-02,\n",
              "          -8.6331e-02,  1.0840e-01, -4.6459e-02,  5.7444e-02, -1.0127e-02,\n",
              "          -1.6936e-02,  1.0591e-01, -2.2596e-02, -1.3995e-03,  9.3526e-02,\n",
              "          -4.8324e-03, -8.7668e-02, -7.5563e-02,  6.9535e-02, -9.3362e-02,\n",
              "           6.0467e-02, -1.0901e-01,  3.4759e-02,  7.5444e-02,  4.4354e-02,\n",
              "           3.2479e-04,  3.5142e-02,  7.2590e-02, -1.0075e-01, -1.3173e-02,\n",
              "           2.5821e-02, -1.0168e-01,  8.9313e-02, -8.4887e-02, -1.6499e-02,\n",
              "          -8.9334e-02,  4.0243e-02, -6.5520e-02,  5.7780e-02,  2.2515e-02,\n",
              "          -9.1808e-02,  8.7306e-02, -5.0400e-02,  9.4735e-02, -6.4419e-02,\n",
              "          -3.0944e-02, -5.4816e-03,  5.0318e-02, -3.4679e-02,  8.5628e-02,\n",
              "          -1.5252e-02, -8.0134e-02,  3.5495e-02,  4.8440e-02,  8.3861e-02,\n",
              "          -6.9809e-03,  7.0679e-02,  1.0424e-01,  1.9110e-02,  2.4423e-02,\n",
              "          -5.9277e-02,  3.6859e-02,  6.5917e-02, -6.2773e-02, -6.3089e-02,\n",
              "           4.3382e-02,  8.4735e-02,  4.0946e-02, -1.2086e-02, -2.7128e-02,\n",
              "          -1.7738e-02, -2.1328e-02,  6.9466e-02,  1.2607e-02],\n",
              "         [ 1.5562e-02,  7.8500e-02, -1.0165e-01, -5.8684e-03,  2.6092e-02,\n",
              "           1.3193e-02, -7.9835e-02, -6.4788e-03,  4.4990e-02,  3.0084e-02,\n",
              "           2.2319e-02, -4.0732e-02,  9.0947e-02,  6.8943e-02,  8.5578e-02,\n",
              "           7.5425e-02,  1.3385e-04, -1.3692e-02,  2.6223e-02, -2.7887e-02,\n",
              "          -4.2118e-02,  9.8997e-02, -5.1598e-05,  8.7192e-02,  2.0367e-02,\n",
              "           9.9030e-02, -8.8113e-02,  7.1937e-02, -5.9394e-02, -1.9004e-02,\n",
              "          -8.3606e-03,  4.1911e-02, -9.7877e-02, -5.7902e-02, -1.4358e-02,\n",
              "          -6.2824e-02, -5.7498e-02,  4.9729e-02, -3.5599e-02, -4.4519e-03,\n",
              "          -6.6046e-02, -2.8610e-02, -1.0274e-01, -1.0535e-01, -5.0289e-02,\n",
              "          -1.0129e-01,  1.0159e-01,  8.1772e-02, -1.4736e-02,  5.1907e-02,\n",
              "           1.0531e-01, -1.6511e-02,  2.5817e-02,  9.5118e-02,  7.2830e-02,\n",
              "          -8.4322e-02, -9.8131e-02, -4.3637e-02,  6.1235e-02, -2.4840e-02,\n",
              "           8.6156e-03,  9.5241e-03, -7.2072e-02,  1.4632e-02, -9.5165e-03,\n",
              "          -4.8831e-02,  8.3409e-02, -5.2963e-02,  3.8238e-02,  8.7090e-02,\n",
              "          -2.6264e-02, -9.6118e-02, -3.8398e-02,  3.3015e-02, -2.1615e-03,\n",
              "          -9.9520e-02, -7.9938e-02, -6.9918e-02, -1.7775e-02, -6.8615e-02,\n",
              "           3.2221e-02,  3.5815e-02, -3.6423e-02, -8.7746e-02],\n",
              "         [ 1.0608e-01, -2.0288e-02, -1.0344e-01, -2.1065e-02,  9.6450e-02,\n",
              "           1.0856e-01,  1.0425e-01,  6.5450e-02,  5.5718e-03,  9.6474e-02,\n",
              "           8.8930e-02, -6.4916e-02,  9.5559e-03,  4.9024e-02,  1.0367e-02,\n",
              "           6.2569e-02, -8.0696e-02, -2.9385e-02,  4.3204e-02, -3.3585e-02,\n",
              "           1.8346e-02,  4.1834e-03,  5.1885e-02, -5.0130e-02,  6.0219e-02,\n",
              "           9.7249e-02, -1.0622e-01, -7.6838e-02, -7.6304e-03,  1.0300e-01,\n",
              "           1.5583e-02, -3.9536e-02,  2.5724e-02, -2.5461e-02,  3.3441e-02,\n",
              "           4.5100e-02,  6.1293e-02,  5.5502e-02,  5.6869e-02,  5.4960e-02,\n",
              "           3.6903e-03,  9.0169e-02, -1.0351e-01, -1.1919e-04, -4.9925e-02,\n",
              "           2.1369e-03, -4.3007e-03, -4.8797e-02,  3.0647e-02, -1.3832e-02,\n",
              "           4.2753e-02, -4.1774e-02,  1.1997e-02, -4.4454e-02, -5.0840e-02,\n",
              "           6.8163e-02,  4.1634e-02, -1.7555e-02, -1.0409e-01, -3.6259e-02,\n",
              "          -1.0034e-02,  4.9716e-02, -8.0580e-02,  4.4329e-02, -1.4075e-02,\n",
              "           8.8151e-02, -1.0676e-01,  3.7620e-02, -3.3942e-02,  5.6134e-02,\n",
              "          -1.0548e-01,  7.9301e-02,  3.7950e-02,  7.1408e-02,  6.6614e-02,\n",
              "          -6.5935e-02,  2.0338e-02,  9.3913e-02, -6.8092e-02, -2.0291e-02,\n",
              "          -2.5480e-02, -8.6323e-02, -4.5980e-02, -5.4886e-02],\n",
              "         [-9.9571e-02,  2.6621e-02, -7.3208e-02,  8.0487e-02,  8.7101e-02,\n",
              "           8.4840e-02,  4.7076e-02,  1.0843e-01, -4.6188e-02, -4.3566e-02,\n",
              "          -1.9802e-02, -2.2254e-02,  8.6335e-02,  5.9426e-02, -1.0521e-01,\n",
              "           1.3155e-03, -8.8302e-02,  9.9098e-02,  1.7109e-02,  1.2732e-02,\n",
              "          -8.5838e-02, -6.5894e-02,  8.9832e-02, -1.0056e-01,  6.4254e-02,\n",
              "          -1.6120e-03, -9.8779e-02,  2.3106e-02,  8.2396e-02, -3.1163e-02,\n",
              "           5.4589e-02, -9.5791e-02,  8.8199e-02,  9.3645e-03,  1.0589e-01,\n",
              "           9.1559e-02,  9.3555e-02,  5.2182e-02, -7.1734e-02, -2.5618e-02,\n",
              "          -6.6832e-02,  4.3156e-02,  6.0245e-02, -1.0097e-01, -5.9994e-02,\n",
              "          -9.8532e-02,  3.4374e-02,  9.2255e-02,  7.9310e-02, -1.3959e-02,\n",
              "           9.5252e-02,  6.5907e-02,  1.0520e-01,  6.6205e-02, -5.5318e-02,\n",
              "          -9.8778e-02, -3.8707e-02,  4.9314e-02, -1.0472e-01,  1.0669e-01,\n",
              "           1.1237e-02, -8.9867e-03, -1.6906e-03,  3.8700e-02, -6.3092e-02,\n",
              "           1.0386e-02, -8.4090e-02, -1.0486e-01,  3.9515e-02,  1.2396e-02,\n",
              "          -1.9443e-02, -9.7572e-02, -6.7343e-02,  7.3788e-02,  3.0770e-02,\n",
              "          -7.2287e-02, -9.4640e-02, -1.0243e-01, -1.8403e-03, -4.0639e-02,\n",
              "          -7.1660e-02,  4.4501e-02,  5.8561e-02,  2.3163e-02],\n",
              "         [-7.0287e-03, -1.4364e-02,  4.9563e-02, -6.3522e-02, -9.5176e-02,\n",
              "           5.1915e-02, -6.5529e-02, -5.9101e-02, -7.9630e-02, -8.9318e-02,\n",
              "           8.2264e-02, -4.6366e-02,  5.7689e-02,  1.0445e-01, -1.6558e-02,\n",
              "           5.9883e-02, -2.0002e-02, -7.9712e-02, -3.3065e-02,  6.3598e-02,\n",
              "           2.4956e-02,  4.7159e-02, -8.1716e-02,  2.5828e-02, -6.3267e-02,\n",
              "           7.6273e-02,  9.6367e-02,  3.5414e-02, -3.8367e-02, -3.2176e-02,\n",
              "           3.9989e-02,  1.9225e-02, -9.0112e-02, -4.5345e-02, -1.0435e-02,\n",
              "           3.7008e-02,  3.9236e-02, -9.5653e-02,  1.1829e-02,  6.1994e-02,\n",
              "          -1.0357e-01,  2.9988e-02, -4.5206e-02, -4.4934e-02,  9.1892e-02,\n",
              "           2.3587e-02,  1.2191e-02,  4.4863e-02,  3.1304e-02,  2.9587e-02,\n",
              "           3.9818e-02, -4.1277e-02,  2.6757e-02, -5.8635e-02, -6.4674e-04,\n",
              "           3.1946e-02, -2.9016e-02, -9.8845e-02, -4.6253e-02,  3.2379e-02,\n",
              "           1.0743e-01, -4.4308e-02,  1.0610e-02,  1.0754e-01, -5.6241e-02,\n",
              "           9.3455e-02,  8.1094e-02,  3.5580e-02,  4.8582e-02,  3.2028e-02,\n",
              "           7.6097e-02, -1.2461e-02,  1.9857e-02, -5.6636e-02,  9.2956e-02,\n",
              "           7.5080e-02, -1.1366e-02, -2.5469e-02,  1.6982e-02,  1.5139e-02,\n",
              "           8.7223e-02, -7.9921e-02,  5.4485e-02,  2.7409e-03]],\n",
              "        requires_grad=True),\n",
              " Parameter containing:\n",
              " tensor([ 0.0127, -0.0174, -0.0513, -0.0059,  0.0812,  0.1058, -0.0449, -0.1036,\n",
              "          0.1025, -0.0370], requires_grad=True)]"
            ]
          },
          "metadata": {},
          "execution_count": 44
        }
      ]
    },
    {
      "cell_type": "code",
      "execution_count": 43,
      "metadata": {
        "colab": {
          "base_uri": "https://localhost:8080/"
        },
        "id": "jy7Sz4npVJjN",
        "outputId": "1d59dead-1ab1-42c6-a1ad-361a00091371"
      },
      "outputs": [
        {
          "output_type": "stream",
          "name": "stdout",
          "text": [
            "10\n",
            "torch.Size([6, 1, 3, 3])\n"
          ]
        }
      ],
      "source": [
        "params = list(net.parameters())\n",
        "print(len(params))\n",
        "print(params[0].size())  # conv1's .weight"
      ]
    },
    {
      "cell_type": "markdown",
      "metadata": {
        "id": "JeIoDl-IVJjO"
      },
      "source": [
        "Let’s try a random 32x32 input. Note: expected input size of this net (LeNet) is 32x32. To use this net on the MNIST dataset, please resize the images from the dataset to 32x32."
      ]
    },
    {
      "cell_type": "code",
      "execution_count": 45,
      "metadata": {
        "colab": {
          "base_uri": "https://localhost:8080/"
        },
        "id": "4bjsVNxDVJjO",
        "outputId": "c5f67336-a50c-43ed-c042-0ecd8c152495"
      },
      "outputs": [
        {
          "output_type": "stream",
          "name": "stdout",
          "text": [
            "tensor([[ 0.0706,  0.1024, -0.0959, -0.0384,  0.0374,  0.0472, -0.0064,  0.0093,\n",
            "          0.1606, -0.0665]], grad_fn=<AddmmBackward0>)\n"
          ]
        }
      ],
      "source": [
        "inp = torch.randn(1, 1, 32, 32)\n",
        "out = net(inp)\n",
        "print(out)"
      ]
    },
    {
      "cell_type": "markdown",
      "metadata": {
        "id": "ClWVVbNdVJjP"
      },
      "source": [
        "Zero the gradient buffers of all parameters and backprops with random gradients:"
      ]
    },
    {
      "cell_type": "code",
      "execution_count": 46,
      "metadata": {
        "id": "SnR7DL27VJjQ"
      },
      "outputs": [],
      "source": [
        "net.zero_grad()\n",
        "out.backward(torch.randn(1, 10))"
      ]
    },
    {
      "cell_type": "markdown",
      "metadata": {
        "id": "h_mblRWMVJjQ"
      },
      "source": [
        "__Note:__\n",
        "<mark style=\"background-color: yellow\">torch.nn</mark> only supports mini-batches. The entire <mark style=\"background-color: yellow\">torch.nn</mark> package only supports inputs that are a mini-batch of samples, and not a single sample.\n",
        "For example, <mark style=\"background-color: yellow\">nn.Conv2d</mark> will take in a 4D Tensor of <mark style=\"background-color: yellow\">nSamples x nChannels x Height x Width</mark>.\n",
        "If you have a single sample, just use <mark style=\"background-color: yellow\">input.unsqueeze(0)</mark> to add a fake batch dimension."
      ]
    },
    {
      "cell_type": "markdown",
      "metadata": {
        "id": "h3UkO-4IVJjR"
      },
      "source": [
        "__At this point, we covered:__\n",
        "- Defined neutral network\n",
        "- Processing input and calling backward"
      ]
    },
    {
      "cell_type": "markdown",
      "metadata": {
        "id": "qB9KtPUcVJjR"
      },
      "source": [
        "### Loss Function\n",
        "\n",
        "A loss function takes the (output, target) pair of inputs, and computes a value that estimates how far away the output is from the target.\n",
        "There are several different loss functions under the nn package . A simple loss is: <mark style=\"background-color: yellow\">nn.MSELoss</mark> which computes the mean-squared error between the input and the target.\n",
        "    \n",
        "For example:"
      ]
    },
    {
      "cell_type": "code",
      "execution_count": 47,
      "metadata": {
        "colab": {
          "base_uri": "https://localhost:8080/"
        },
        "id": "dy1_M6DoVJjS",
        "outputId": "039b69f7-09c8-4565-fe93-ead2752b4b01"
      },
      "outputs": [
        {
          "output_type": "stream",
          "name": "stdout",
          "text": [
            "tensor(0.7094, grad_fn=<MseLossBackward0>)\n"
          ]
        }
      ],
      "source": [
        "output = net(inp)\n",
        "target = torch.randn(10)  # a dummy target, for example\n",
        "target = target.view(1, -1)  # make it the same shape as output\n",
        "criterion = nn.MSELoss()\n",
        "\n",
        "loss = criterion(output, target)\n",
        "print(loss)"
      ]
    },
    {
      "cell_type": "markdown",
      "metadata": {
        "id": "deWHxmEkVJjU"
      },
      "source": [
        "Now, if you follow loss in the backward direction, using its <mark style=\"background-color: yellow\">.grad_fn</mark>attribute, you will see a graph of computations that looks like this:"
      ]
    },
    {
      "cell_type": "markdown",
      "metadata": {
        "id": "NpN91t-iVJjV"
      },
      "source": [
        "input  ->   conv2d  ->   relu  ->   maxpool2d  ->   conv2d ->   relu  ->   maxpool2d\n",
        "      \n",
        "      -> view -> linear -> relu -> linear -> relu -> linear\n",
        "      \n",
        "      -> MSELoss\n",
        "      \n",
        "      -> loss"
      ]
    },
    {
      "cell_type": "markdown",
      "metadata": {
        "id": "POAftaMwVJjW"
      },
      "source": [
        "So, when we call <mark style=\"background-color: yellow\">loss.backward()</mark>, the whole graph is differentiated w.r.t. the loss, and all Tensors in the graph that has requires_grad=True will have their .grad Tensor accumulated with the gradient.\n",
        "\n",
        "\n",
        "For illustration, let us follow a few steps <mark style=\"background-color: yellow\">backward</mark>:"
      ]
    },
    {
      "cell_type": "code",
      "execution_count": 48,
      "metadata": {
        "colab": {
          "base_uri": "https://localhost:8080/"
        },
        "id": "s0MkeqSlVJjX",
        "outputId": "a68452b3-37ef-4f02-9744-76b68a58384a"
      },
      "outputs": [
        {
          "output_type": "stream",
          "name": "stdout",
          "text": [
            "<MseLossBackward0 object at 0x7f9efe7ce3a0>\n",
            "<AddmmBackward0 object at 0x7f9efe7ce400>\n",
            "<AccumulateGrad object at 0x7f9efe7ce3a0>\n"
          ]
        }
      ],
      "source": [
        "print(loss.grad_fn)  # MSELoss\n",
        "print(loss.grad_fn.next_functions[0][0])  # Linear\n",
        "print(loss.grad_fn.next_functions[0][0].next_functions[0][0])  # ReLU"
      ]
    },
    {
      "cell_type": "markdown",
      "metadata": {
        "id": "qKVDym5qVJjZ"
      },
      "source": [
        "### Backprop\n",
        "\n",
        "To backpropagate the error all we have to do is to <mark style=\"background-color: yellow\">loss.backward()</mark>. You need to clear the existing gradients though, else gradients will be accumulated to existing gradients.\n",
        "\n",
        "\n",
        "Now we shall call <mark style=\"background-color: yellow\">loss.backward()</mark>, and have a look at conv1’s bias gradients before and after the backward."
      ]
    },
    {
      "cell_type": "code",
      "execution_count": 49,
      "metadata": {
        "colab": {
          "base_uri": "https://localhost:8080/"
        },
        "id": "hV0nH4bgVJje",
        "outputId": "876cef2f-2bc4-49de-f3b4-bd39412b9226"
      },
      "outputs": [
        {
          "output_type": "stream",
          "name": "stdout",
          "text": [
            "conv1.bias.grad before backward\n",
            "None\n",
            "conv1.bias.grad after backward\n",
            "tensor([ 0.0049, -0.0092, -0.0097,  0.0015,  0.0161,  0.0079])\n"
          ]
        }
      ],
      "source": [
        "net.zero_grad()     # zeroes the gradient buffers of all parameters\n",
        "\n",
        "print('conv1.bias.grad before backward')\n",
        "print(net.conv1.bias.grad)\n",
        "\n",
        "loss.backward()\n",
        "\n",
        "print('conv1.bias.grad after backward')\n",
        "print(net.conv1.bias.grad)"
      ]
    },
    {
      "cell_type": "markdown",
      "metadata": {
        "id": "35ubl8AjVJjg"
      },
      "source": [
        "### Update the weights\n",
        "\n",
        "The simplest update rule used in practice is the Stochastic Gradient Descent (SGD):\n",
        "    \n",
        "   <mark style=\"background-color: yellow\"> weight = weight - learning_rate * gradient </mark>\n",
        "   \n",
        "We can implement this using simple Python code:"
      ]
    },
    {
      "cell_type": "code",
      "execution_count": 50,
      "metadata": {
        "id": "KuS9Bv-bVJjh"
      },
      "outputs": [],
      "source": [
        "learning_rate = 0.01\n",
        "for f in net.parameters():\n",
        "    f.data.sub_(f.grad.data * learning_rate)"
      ]
    },
    {
      "cell_type": "markdown",
      "metadata": {
        "id": "EyhHjhYUVJji"
      },
      "source": [
        "However, as you use neural networks, you want to use various different update rules such as SGD, Nesterov-SGD, Adam, RMSProp, etc. To enable this, we built a small package: torch.optim that implements all these methods. Using it is very simple:"
      ]
    },
    {
      "cell_type": "code",
      "execution_count": 51,
      "metadata": {
        "id": "Y7mXdYwxVJjj"
      },
      "outputs": [],
      "source": [
        "import torch.optim as optim\n",
        "\n",
        "# create your optimizer\n",
        "optimizer = optim.SGD(net.parameters(), lr=0.01)\n",
        "\n",
        "# in your training loop:\n",
        "optimizer.zero_grad()   # zero the gradient buffers\n",
        "output = net(inp)\n",
        "loss = criterion(output, target)\n",
        "loss.backward()\n",
        "optimizer.step()    # Does the update"
      ]
    },
    {
      "cell_type": "markdown",
      "metadata": {
        "id": "F3n05oIZVJjl"
      },
      "source": [
        "Observe how gradient buffers had to be manually set to zero using <mark style=\"background-color:yellow\">optimizer.zero_grad()</mark>. This is because gradients are accumulated as explained in the <mark style=\"font-color:red\">Backprop</mark> section."
      ]
    },
    {
      "cell_type": "code",
      "execution_count": 52,
      "metadata": {
        "colab": {
          "base_uri": "https://localhost:8080/"
        },
        "id": "7X8qHaTOVJjm",
        "outputId": "05a6ed73-309d-4601-84b7-6ec9d53e46f7"
      },
      "outputs": [
        {
          "output_type": "execute_result",
          "data": {
            "text/plain": [
              "SGD (\n",
              "Parameter Group 0\n",
              "    dampening: 0\n",
              "    differentiable: False\n",
              "    foreach: None\n",
              "    lr: 0.01\n",
              "    maximize: False\n",
              "    momentum: 0\n",
              "    nesterov: False\n",
              "    weight_decay: 0\n",
              ")"
            ]
          },
          "metadata": {},
          "execution_count": 52
        }
      ],
      "source": [
        "optimizer"
      ]
    },
    {
      "cell_type": "code",
      "source": [],
      "metadata": {
        "id": "vRxyrwTxuVAy"
      },
      "execution_count": null,
      "outputs": []
    }
  ],
  "metadata": {
    "kernelspec": {
      "display_name": "Python 3 (ipykernel)",
      "language": "python",
      "name": "python3"
    },
    "language_info": {
      "codemirror_mode": {
        "name": "ipython",
        "version": 3
      },
      "file_extension": ".py",
      "mimetype": "text/x-python",
      "name": "python",
      "nbconvert_exporter": "python",
      "pygments_lexer": "ipython3",
      "version": "3.9.12"
    },
    "colab": {
      "provenance": []
    }
  },
  "nbformat": 4,
  "nbformat_minor": 0
}